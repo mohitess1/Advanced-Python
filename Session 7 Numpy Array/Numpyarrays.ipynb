{
 "cells": [
  {
   "cell_type": "markdown",
   "metadata": {},
   "source": [
    "#### Numpy Arrays"
   ]
  },
  {
   "cell_type": "code",
   "execution_count": 1,
   "metadata": {},
   "outputs": [],
   "source": [
    "import numpy as np"
   ]
  },
  {
   "cell_type": "code",
   "execution_count": 2,
   "metadata": {},
   "outputs": [
    {
     "data": {
      "text/plain": [
       "array([12,  9, 80, 56])"
      ]
     },
     "execution_count": 2,
     "metadata": {},
     "output_type": "execute_result"
    }
   ],
   "source": [
    "arr1 = np.array([12,9,80,56])\n",
    "arr1"
   ]
  },
  {
   "cell_type": "code",
   "execution_count": 3,
   "metadata": {},
   "outputs": [
    {
     "data": {
      "text/plain": [
       "numpy.ndarray"
      ]
     },
     "execution_count": 3,
     "metadata": {},
     "output_type": "execute_result"
    }
   ],
   "source": [
    "type(arr1)"
   ]
  },
  {
   "cell_type": "code",
   "execution_count": 4,
   "metadata": {},
   "outputs": [
    {
     "data": {
      "text/plain": [
       "1"
      ]
     },
     "execution_count": 4,
     "metadata": {},
     "output_type": "execute_result"
    }
   ],
   "source": [
    "np.ndim(arr1)"
   ]
  },
  {
   "cell_type": "code",
   "execution_count": 5,
   "metadata": {},
   "outputs": [
    {
     "data": {
      "text/plain": [
       "56"
      ]
     },
     "execution_count": 5,
     "metadata": {},
     "output_type": "execute_result"
    }
   ],
   "source": [
    "arr1[3]"
   ]
  },
  {
   "cell_type": "markdown",
   "metadata": {},
   "source": [
    "slicing\n",
    "[starts:stop+1]"
   ]
  },
  {
   "cell_type": "code",
   "execution_count": 6,
   "metadata": {},
   "outputs": [
    {
     "data": {
      "text/plain": [
       "array([ 9, 80, 56])"
      ]
     },
     "execution_count": 6,
     "metadata": {},
     "output_type": "execute_result"
    }
   ],
   "source": [
    "arr1[1:4]"
   ]
  },
  {
   "cell_type": "code",
   "execution_count": 7,
   "metadata": {},
   "outputs": [
    {
     "data": {
      "text/plain": [
       "(4,)"
      ]
     },
     "execution_count": 7,
     "metadata": {},
     "output_type": "execute_result"
    }
   ],
   "source": [
    "arr1.shape"
   ]
  },
  {
   "cell_type": "markdown",
   "metadata": {},
   "source": [
    "### 2D Array"
   ]
  },
  {
   "cell_type": "code",
   "execution_count": 8,
   "metadata": {},
   "outputs": [],
   "source": [
    "arr2 = np.array([[1,2,3,4],\n",
    "                 [5,6,7,8]])"
   ]
  },
  {
   "cell_type": "code",
   "execution_count": 9,
   "metadata": {},
   "outputs": [
    {
     "data": {
      "text/plain": [
       "array([[1, 2, 3, 4],\n",
       "       [5, 6, 7, 8]])"
      ]
     },
     "execution_count": 9,
     "metadata": {},
     "output_type": "execute_result"
    }
   ],
   "source": [
    "arr2"
   ]
  },
  {
   "cell_type": "code",
   "execution_count": 10,
   "metadata": {},
   "outputs": [
    {
     "data": {
      "text/plain": [
       "2"
      ]
     },
     "execution_count": 10,
     "metadata": {},
     "output_type": "execute_result"
    }
   ],
   "source": [
    "np.ndim(arr2)"
   ]
  },
  {
   "cell_type": "code",
   "execution_count": 11,
   "metadata": {},
   "outputs": [
    {
     "data": {
      "text/plain": [
       "(2, 4)"
      ]
     },
     "execution_count": 11,
     "metadata": {},
     "output_type": "execute_result"
    }
   ],
   "source": [
    "arr2.shape"
   ]
  },
  {
   "cell_type": "markdown",
   "metadata": {},
   "source": [
    "#### 3D Array"
   ]
  },
  {
   "cell_type": "code",
   "execution_count": 12,
   "metadata": {},
   "outputs": [],
   "source": [
    "arr3 = np.array([[[1,2,3],\n",
    "                  [4,5,6]],\n",
    "                  \n",
    "                  [[5,8,9],\n",
    "                   [8,0,2]]])"
   ]
  },
  {
   "cell_type": "code",
   "execution_count": 13,
   "metadata": {},
   "outputs": [
    {
     "data": {
      "text/plain": [
       "array([[[1, 2, 3],\n",
       "        [4, 5, 6]],\n",
       "\n",
       "       [[5, 8, 9],\n",
       "        [8, 0, 2]]])"
      ]
     },
     "execution_count": 13,
     "metadata": {},
     "output_type": "execute_result"
    }
   ],
   "source": [
    "arr3"
   ]
  },
  {
   "cell_type": "code",
   "execution_count": 14,
   "metadata": {},
   "outputs": [
    {
     "data": {
      "text/plain": [
       "(2, 2, 3)"
      ]
     },
     "execution_count": 14,
     "metadata": {},
     "output_type": "execute_result"
    }
   ],
   "source": [
    "arr3.shape"
   ]
  },
  {
   "cell_type": "code",
   "execution_count": 15,
   "metadata": {},
   "outputs": [
    {
     "data": {
      "text/plain": [
       "3"
      ]
     },
     "execution_count": 15,
     "metadata": {},
     "output_type": "execute_result"
    }
   ],
   "source": [
    "np.ndim(arr3)"
   ]
  },
  {
   "cell_type": "code",
   "execution_count": 16,
   "metadata": {},
   "outputs": [
    {
     "data": {
      "text/plain": [
       "numpy.ndarray"
      ]
     },
     "execution_count": 16,
     "metadata": {},
     "output_type": "execute_result"
    }
   ],
   "source": [
    "type(arr3)"
   ]
  },
  {
   "cell_type": "markdown",
   "metadata": {},
   "source": [
    "#### Reshape Function"
   ]
  },
  {
   "cell_type": "code",
   "execution_count": 17,
   "metadata": {},
   "outputs": [
    {
     "data": {
      "text/plain": [
       "array([[1, 2, 3],\n",
       "       [4, 5, 6],\n",
       "       [5, 8, 9],\n",
       "       [8, 0, 2]])"
      ]
     },
     "execution_count": 17,
     "metadata": {},
     "output_type": "execute_result"
    }
   ],
   "source": [
    "arr3.reshape(4,3)"
   ]
  },
  {
   "cell_type": "code",
   "execution_count": 18,
   "metadata": {},
   "outputs": [
    {
     "data": {
      "text/plain": [
       "array([[1, 2, 3, 4],\n",
       "       [5, 6, 5, 8],\n",
       "       [9, 8, 0, 2]])"
      ]
     },
     "execution_count": 18,
     "metadata": {},
     "output_type": "execute_result"
    }
   ],
   "source": [
    "arr3.reshape(3,4)"
   ]
  },
  {
   "cell_type": "markdown",
   "metadata": {},
   "source": [
    "###### Keep Datatypes consistant in arrays"
   ]
  },
  {
   "cell_type": "code",
   "execution_count": 19,
   "metadata": {},
   "outputs": [],
   "source": [
    "arr4 = np.array(['sayali' , 23 , 12.4 , True , 'x' , 12])"
   ]
  },
  {
   "cell_type": "code",
   "execution_count": 20,
   "metadata": {},
   "outputs": [
    {
     "data": {
      "text/plain": [
       "array(['sayali', '23', '12.4', 'True', 'x', '12'], dtype='<U32')"
      ]
     },
     "execution_count": 20,
     "metadata": {},
     "output_type": "execute_result"
    }
   ],
   "source": [
    "arr4"
   ]
  },
  {
   "cell_type": "code",
   "execution_count": 21,
   "metadata": {},
   "outputs": [
    {
     "name": "stdout",
     "output_type": "stream",
     "text": [
      "Element Value : sayali , Element type : <class 'numpy.str_'>\n",
      "Element Value : 23 , Element type : <class 'numpy.str_'>\n",
      "Element Value : 12.4 , Element type : <class 'numpy.str_'>\n",
      "Element Value : True , Element type : <class 'numpy.str_'>\n",
      "Element Value : x , Element type : <class 'numpy.str_'>\n",
      "Element Value : 12 , Element type : <class 'numpy.str_'>\n"
     ]
    }
   ],
   "source": [
    "for i in arr4:\n",
    "    print(f'Element Value : {i} , Element type : {type(i)}')"
   ]
  },
  {
   "cell_type": "markdown",
   "metadata": {},
   "source": [
    "#### List vs Array Multiplied by 3"
   ]
  },
  {
   "cell_type": "code",
   "execution_count": 22,
   "metadata": {},
   "outputs": [
    {
     "data": {
      "text/plain": [
       "[3, 4, 5, 6]"
      ]
     },
     "execution_count": 22,
     "metadata": {},
     "output_type": "execute_result"
    }
   ],
   "source": [
    "a = [3,4,5,6]\n",
    "a"
   ]
  },
  {
   "cell_type": "code",
   "execution_count": 23,
   "metadata": {},
   "outputs": [
    {
     "data": {
      "text/plain": [
       "list"
      ]
     },
     "execution_count": 23,
     "metadata": {},
     "output_type": "execute_result"
    }
   ],
   "source": [
    "type(a)"
   ]
  },
  {
   "cell_type": "code",
   "execution_count": 24,
   "metadata": {},
   "outputs": [
    {
     "data": {
      "text/plain": [
       "[3, 4, 5, 6, 3, 4, 5, 6, 3, 4, 5, 6]"
      ]
     },
     "execution_count": 24,
     "metadata": {},
     "output_type": "execute_result"
    }
   ],
   "source": [
    "a*3"
   ]
  },
  {
   "cell_type": "code",
   "execution_count": 25,
   "metadata": {},
   "outputs": [
    {
     "data": {
      "text/plain": [
       "[3, 4, 5, 6, 3, 4, 5, 6, 3, 4, 5, 6, 3, 4, 5, 6]"
      ]
     },
     "execution_count": 25,
     "metadata": {},
     "output_type": "execute_result"
    }
   ],
   "source": [
    "a*4"
   ]
  },
  {
   "cell_type": "code",
   "execution_count": 26,
   "metadata": {},
   "outputs": [],
   "source": [
    "b = []\n",
    "for i in a:\n",
    "    b.append(3*i)"
   ]
  },
  {
   "cell_type": "code",
   "execution_count": 27,
   "metadata": {},
   "outputs": [
    {
     "data": {
      "text/plain": [
       "[9, 12, 15, 18]"
      ]
     },
     "execution_count": 27,
     "metadata": {},
     "output_type": "execute_result"
    }
   ],
   "source": [
    "b"
   ]
  },
  {
   "cell_type": "code",
   "execution_count": 28,
   "metadata": {},
   "outputs": [
    {
     "data": {
      "text/plain": [
       "array([9, 7, 8, 4])"
      ]
     },
     "execution_count": 28,
     "metadata": {},
     "output_type": "execute_result"
    }
   ],
   "source": [
    "c = np.array([9,7,8,4])\n",
    "c"
   ]
  },
  {
   "cell_type": "code",
   "execution_count": 29,
   "metadata": {},
   "outputs": [
    {
     "data": {
      "text/plain": [
       "numpy.ndarray"
      ]
     },
     "execution_count": 29,
     "metadata": {},
     "output_type": "execute_result"
    }
   ],
   "source": [
    "type(c)"
   ]
  },
  {
   "cell_type": "code",
   "execution_count": 30,
   "metadata": {},
   "outputs": [],
   "source": [
    "d = 3*c"
   ]
  },
  {
   "cell_type": "code",
   "execution_count": 31,
   "metadata": {},
   "outputs": [
    {
     "data": {
      "text/plain": [
       "array([27, 21, 24, 12])"
      ]
     },
     "execution_count": 31,
     "metadata": {},
     "output_type": "execute_result"
    }
   ],
   "source": [
    "d"
   ]
  },
  {
   "cell_type": "markdown",
   "metadata": {},
   "source": [
    "#### Taking product of element inside list vs array"
   ]
  },
  {
   "cell_type": "code",
   "execution_count": 32,
   "metadata": {},
   "outputs": [
    {
     "data": {
      "text/plain": [
       "list"
      ]
     },
     "execution_count": 32,
     "metadata": {},
     "output_type": "execute_result"
    }
   ],
   "source": [
    "e = [5,6,7,8]\n",
    "type(e)"
   ]
  },
  {
   "cell_type": "code",
   "execution_count": 33,
   "metadata": {},
   "outputs": [
    {
     "data": {
      "text/plain": [
       "[5, 6, 7, 8]"
      ]
     },
     "execution_count": 33,
     "metadata": {},
     "output_type": "execute_result"
    }
   ],
   "source": [
    "e"
   ]
  },
  {
   "cell_type": "code",
   "execution_count": 34,
   "metadata": {},
   "outputs": [
    {
     "name": "stdout",
     "output_type": "stream",
     "text": [
      "product of element inside list [5, 6, 7, 8] is 1680\n"
     ]
    }
   ],
   "source": [
    "p=1\n",
    "for i in e:\n",
    "    p = p*i\n",
    "print(f'product of element inside list {e} is {p}')"
   ]
  },
  {
   "cell_type": "code",
   "execution_count": 35,
   "metadata": {},
   "outputs": [
    {
     "data": {
      "text/plain": [
       "1680"
      ]
     },
     "execution_count": 35,
     "metadata": {},
     "output_type": "execute_result"
    }
   ],
   "source": [
    "5*6*7*8"
   ]
  },
  {
   "cell_type": "code",
   "execution_count": 36,
   "metadata": {},
   "outputs": [
    {
     "data": {
      "text/plain": [
       "list"
      ]
     },
     "execution_count": 36,
     "metadata": {},
     "output_type": "execute_result"
    }
   ],
   "source": [
    "g = ([5,6,7,8])\n",
    "type(g)"
   ]
  },
  {
   "cell_type": "code",
   "execution_count": 37,
   "metadata": {},
   "outputs": [
    {
     "data": {
      "text/plain": [
       "1680"
      ]
     },
     "execution_count": 37,
     "metadata": {},
     "output_type": "execute_result"
    }
   ],
   "source": [
    "np.prod(g)"
   ]
  },
  {
   "cell_type": "code",
   "execution_count": 38,
   "metadata": {},
   "outputs": [
    {
     "data": {
      "text/plain": [
       "26"
      ]
     },
     "execution_count": 38,
     "metadata": {},
     "output_type": "execute_result"
    }
   ],
   "source": [
    "np.sum(g)"
   ]
  },
  {
   "cell_type": "markdown",
   "metadata": {},
   "source": [
    "#### Numpy Agrigation operations"
   ]
  },
  {
   "cell_type": "code",
   "execution_count": 39,
   "metadata": {},
   "outputs": [],
   "source": [
    "A = np.array([7,8,9,23])"
   ]
  },
  {
   "cell_type": "code",
   "execution_count": 40,
   "metadata": {},
   "outputs": [
    {
     "data": {
      "text/plain": [
       "47"
      ]
     },
     "execution_count": 40,
     "metadata": {},
     "output_type": "execute_result"
    }
   ],
   "source": [
    "s = sum(A)\n",
    "s"
   ]
  },
  {
   "cell_type": "code",
   "execution_count": 41,
   "metadata": {},
   "outputs": [
    {
     "data": {
      "text/plain": [
       "47"
      ]
     },
     "execution_count": 41,
     "metadata": {},
     "output_type": "execute_result"
    }
   ],
   "source": [
    "7+8+9+23"
   ]
  },
  {
   "cell_type": "code",
   "execution_count": 42,
   "metadata": {},
   "outputs": [
    {
     "data": {
      "text/plain": [
       "11.75"
      ]
     },
     "execution_count": 42,
     "metadata": {},
     "output_type": "execute_result"
    }
   ],
   "source": [
    "np.mean(A)"
   ]
  },
  {
   "cell_type": "code",
   "execution_count": 43,
   "metadata": {},
   "outputs": [
    {
     "data": {
      "text/plain": [
       "11.75"
      ]
     },
     "execution_count": 43,
     "metadata": {},
     "output_type": "execute_result"
    }
   ],
   "source": [
    "47/4"
   ]
  },
  {
   "cell_type": "code",
   "execution_count": 44,
   "metadata": {},
   "outputs": [
    {
     "data": {
      "text/plain": [
       "23"
      ]
     },
     "execution_count": 44,
     "metadata": {},
     "output_type": "execute_result"
    }
   ],
   "source": [
    "np.max(A)"
   ]
  },
  {
   "cell_type": "code",
   "execution_count": 45,
   "metadata": {},
   "outputs": [
    {
     "data": {
      "text/plain": [
       "7"
      ]
     },
     "execution_count": 45,
     "metadata": {},
     "output_type": "execute_result"
    }
   ],
   "source": [
    "np.min(A)"
   ]
  },
  {
   "cell_type": "code",
   "execution_count": 46,
   "metadata": {},
   "outputs": [
    {
     "data": {
      "text/plain": [
       "6.53356717268599"
      ]
     },
     "execution_count": 46,
     "metadata": {},
     "output_type": "execute_result"
    }
   ],
   "source": [
    "np.std(A)"
   ]
  },
  {
   "cell_type": "code",
   "execution_count": 47,
   "metadata": {},
   "outputs": [
    {
     "data": {
      "text/plain": [
       "11592"
      ]
     },
     "execution_count": 47,
     "metadata": {},
     "output_type": "execute_result"
    }
   ],
   "source": [
    "np.prod(A)"
   ]
  },
  {
   "cell_type": "code",
   "execution_count": 48,
   "metadata": {},
   "outputs": [
    {
     "data": {
      "text/plain": [
       "11592"
      ]
     },
     "execution_count": 48,
     "metadata": {},
     "output_type": "execute_result"
    }
   ],
   "source": [
    "7*8*9*23"
   ]
  },
  {
   "cell_type": "markdown",
   "metadata": {},
   "source": [
    "#### Generating Data through Numpy"
   ]
  },
  {
   "cell_type": "markdown",
   "metadata": {},
   "source": [
    "range(start,stop,step)"
   ]
  },
  {
   "cell_type": "code",
   "execution_count": 49,
   "metadata": {},
   "outputs": [
    {
     "data": {
      "text/plain": [
       "range(2, 25, 2)"
      ]
     },
     "execution_count": 49,
     "metadata": {},
     "output_type": "execute_result"
    }
   ],
   "source": [
    "range(2,25,2)"
   ]
  },
  {
   "cell_type": "code",
   "execution_count": 50,
   "metadata": {},
   "outputs": [
    {
     "data": {
      "text/plain": [
       "[2, 4, 6, 8, 10, 12, 14, 16, 18, 20, 22, 24]"
      ]
     },
     "execution_count": 50,
     "metadata": {},
     "output_type": "execute_result"
    }
   ],
   "source": [
    "list(range(2,25,2))"
   ]
  },
  {
   "cell_type": "code",
   "execution_count": 51,
   "metadata": {},
   "outputs": [
    {
     "ename": "TypeError",
     "evalue": "'float' object cannot be interpreted as an integer",
     "output_type": "error",
     "traceback": [
      "\u001b[1;31m---------------------------------------------------------------------------\u001b[0m",
      "\u001b[1;31mTypeError\u001b[0m                                 Traceback (most recent call last)",
      "\u001b[1;32me:\\Advanced Python\\Session 7 Numpy Array\\Numpyarrays.ipynb Cell 62\u001b[0m line \u001b[0;36m1\n\u001b[1;32m----> <a href='vscode-notebook-cell:/e%3A/Advanced%20Python/Session%207%20Numpy%20Array/Numpyarrays.ipynb#Y115sZmlsZQ%3D%3D?line=0'>1</a>\u001b[0m \u001b[39mlist\u001b[39m(\u001b[39mrange\u001b[39;49m(\u001b[39m0.1\u001b[39;49m,\u001b[39m3.5\u001b[39;49m,\u001b[39m0.2\u001b[39;49m))\n",
      "\u001b[1;31mTypeError\u001b[0m: 'float' object cannot be interpreted as an integer"
     ]
    }
   ],
   "source": [
    "list(range(0.1,3.5,0.2))"
   ]
  },
  {
   "cell_type": "markdown",
   "metadata": {},
   "source": [
    "#### np.arange"
   ]
  },
  {
   "cell_type": "code",
   "execution_count": null,
   "metadata": {},
   "outputs": [],
   "source": [
    "B = np.arange(0.2,10.2,0.6)"
   ]
  },
  {
   "cell_type": "code",
   "execution_count": null,
   "metadata": {},
   "outputs": [
    {
     "data": {
      "text/plain": [
       "array([0.2, 0.8, 1.4, 2. , 2.6, 3.2, 3.8, 4.4, 5. , 5.6, 6.2, 6.8, 7.4,\n",
       "       8. , 8.6, 9.2, 9.8])"
      ]
     },
     "execution_count": 53,
     "metadata": {},
     "output_type": "execute_result"
    }
   ],
   "source": [
    "B"
   ]
  },
  {
   "cell_type": "code",
   "execution_count": null,
   "metadata": {},
   "outputs": [
    {
     "data": {
      "text/plain": [
       "array([ 0.1,  0.2,  0.3,  0.4,  0.5,  0.6,  0.7,  0.8,  0.9,  1. ,  1.1,\n",
       "        1.2,  1.3,  1.4,  1.5,  1.6,  1.7,  1.8,  1.9,  2. ,  2.1,  2.2,\n",
       "        2.3,  2.4,  2.5,  2.6,  2.7,  2.8,  2.9,  3. ,  3.1,  3.2,  3.3,\n",
       "        3.4,  3.5,  3.6,  3.7,  3.8,  3.9,  4. ,  4.1,  4.2,  4.3,  4.4,\n",
       "        4.5,  4.6,  4.7,  4.8,  4.9,  5. ,  5.1,  5.2,  5.3,  5.4,  5.5,\n",
       "        5.6,  5.7,  5.8,  5.9,  6. ,  6.1,  6.2,  6.3,  6.4,  6.5,  6.6,\n",
       "        6.7,  6.8,  6.9,  7. ,  7.1,  7.2,  7.3,  7.4,  7.5,  7.6,  7.7,\n",
       "        7.8,  7.9,  8. ,  8.1,  8.2,  8.3,  8.4,  8.5,  8.6,  8.7,  8.8,\n",
       "        8.9,  9. ,  9.1,  9.2,  9.3,  9.4,  9.5,  9.6,  9.7,  9.8,  9.9,\n",
       "       10. , 10.1, 10.2, 10.3, 10.4, 10.5, 10.6, 10.7, 10.8, 10.9, 11. ,\n",
       "       11.1, 11.2, 11.3, 11.4, 11.5, 11.6, 11.7, 11.8, 11.9, 12. , 12.1,\n",
       "       12.2, 12.3, 12.4, 12.5, 12.6, 12.7, 12.8, 12.9, 13. , 13.1, 13.2,\n",
       "       13.3, 13.4, 13.5, 13.6, 13.7, 13.8, 13.9, 14. , 14.1, 14.2, 14.3,\n",
       "       14.4, 14.5, 14.6, 14.7, 14.8, 14.9, 15. , 15.1, 15.2, 15.3, 15.4,\n",
       "       15.5, 15.6, 15.7, 15.8, 15.9, 16. , 16.1, 16.2, 16.3, 16.4, 16.5,\n",
       "       16.6, 16.7, 16.8, 16.9, 17. , 17.1, 17.2, 17.3, 17.4, 17.5, 17.6,\n",
       "       17.7, 17.8, 17.9, 18. , 18.1, 18.2, 18.3, 18.4, 18.5, 18.6, 18.7,\n",
       "       18.8, 18.9, 19. , 19.1, 19.2, 19.3, 19.4, 19.5, 19.6, 19.7, 19.8,\n",
       "       19.9, 20. , 20.1, 20.2, 20.3, 20.4, 20.5, 20.6, 20.7, 20.8, 20.9,\n",
       "       21. , 21.1, 21.2, 21.3, 21.4, 21.5, 21.6, 21.7, 21.8, 21.9, 22. ,\n",
       "       22.1, 22.2, 22.3, 22.4, 22.5, 22.6, 22.7, 22.8, 22.9, 23. , 23.1,\n",
       "       23.2, 23.3, 23.4, 23.5, 23.6, 23.7, 23.8, 23.9, 24. , 24.1, 24.2,\n",
       "       24.3, 24.4, 24.5, 24.6, 24.7, 24.8, 24.9, 25. , 25.1, 25.2, 25.3,\n",
       "       25.4, 25.5, 25.6, 25.7, 25.8, 25.9, 26. , 26.1, 26.2, 26.3, 26.4,\n",
       "       26.5, 26.6, 26.7, 26.8, 26.9, 27. , 27.1, 27.2, 27.3, 27.4, 27.5,\n",
       "       27.6, 27.7, 27.8, 27.9, 28. , 28.1, 28.2, 28.3, 28.4, 28.5, 28.6,\n",
       "       28.7, 28.8, 28.9, 29. , 29.1, 29.2, 29.3, 29.4, 29.5, 29.6, 29.7,\n",
       "       29.8, 29.9, 30. , 30.1, 30.2, 30.3, 30.4, 30.5, 30.6, 30.7, 30.8,\n",
       "       30.9, 31. , 31.1, 31.2, 31.3, 31.4, 31.5, 31.6, 31.7, 31.8, 31.9,\n",
       "       32. , 32.1, 32.2, 32.3, 32.4, 32.5, 32.6, 32.7, 32.8, 32.9, 33. ,\n",
       "       33.1, 33.2, 33.3, 33.4, 33.5, 33.6, 33.7, 33.8, 33.9, 34. , 34.1,\n",
       "       34.2, 34.3, 34.4, 34.5, 34.6, 34.7, 34.8, 34.9, 35. , 35.1, 35.2,\n",
       "       35.3, 35.4, 35.5, 35.6, 35.7, 35.8, 35.9, 36. , 36.1, 36.2, 36.3,\n",
       "       36.4, 36.5, 36.6, 36.7, 36.8, 36.9, 37. , 37.1, 37.2, 37.3, 37.4,\n",
       "       37.5, 37.6, 37.7, 37.8, 37.9, 38. , 38.1, 38.2, 38.3, 38.4, 38.5,\n",
       "       38.6, 38.7, 38.8, 38.9, 39. , 39.1, 39.2, 39.3, 39.4, 39.5, 39.6,\n",
       "       39.7, 39.8, 39.9, 40. , 40.1, 40.2, 40.3, 40.4, 40.5, 40.6, 40.7,\n",
       "       40.8, 40.9, 41. , 41.1, 41.2, 41.3, 41.4, 41.5, 41.6, 41.7, 41.8,\n",
       "       41.9, 42. , 42.1, 42.2, 42.3, 42.4, 42.5, 42.6, 42.7, 42.8, 42.9,\n",
       "       43. , 43.1, 43.2, 43.3, 43.4, 43.5, 43.6, 43.7, 43.8, 43.9, 44. ,\n",
       "       44.1, 44.2, 44.3, 44.4, 44.5, 44.6, 44.7, 44.8, 44.9, 45. , 45.1,\n",
       "       45.2, 45.3, 45.4, 45.5, 45.6, 45.7, 45.8, 45.9, 46. , 46.1, 46.2,\n",
       "       46.3, 46.4, 46.5, 46.6, 46.7, 46.8, 46.9, 47. , 47.1, 47.2, 47.3,\n",
       "       47.4, 47.5, 47.6, 47.7, 47.8, 47.9, 48. , 48.1, 48.2, 48.3, 48.4,\n",
       "       48.5, 48.6, 48.7, 48.8, 48.9, 49. , 49.1, 49.2, 49.3, 49.4, 49.5,\n",
       "       49.6, 49.7, 49.8, 49.9, 50. , 50.1, 50.2, 50.3, 50.4, 50.5, 50.6,\n",
       "       50.7, 50.8, 50.9, 51. , 51.1, 51.2, 51.3, 51.4, 51.5, 51.6, 51.7,\n",
       "       51.8, 51.9, 52. , 52.1, 52.2, 52.3, 52.4, 52.5, 52.6, 52.7, 52.8,\n",
       "       52.9, 53. , 53.1, 53.2, 53.3, 53.4, 53.5, 53.6, 53.7, 53.8, 53.9,\n",
       "       54. , 54.1, 54.2, 54.3, 54.4, 54.5, 54.6, 54.7, 54.8, 54.9, 55. ,\n",
       "       55.1, 55.2, 55.3, 55.4, 55.5, 55.6, 55.7, 55.8, 55.9, 56. , 56.1,\n",
       "       56.2, 56.3, 56.4, 56.5, 56.6, 56.7, 56.8, 56.9, 57. , 57.1, 57.2,\n",
       "       57.3, 57.4, 57.5, 57.6, 57.7, 57.8, 57.9, 58. , 58.1, 58.2, 58.3,\n",
       "       58.4, 58.5, 58.6, 58.7, 58.8, 58.9, 59. , 59.1, 59.2, 59.3, 59.4,\n",
       "       59.5, 59.6, 59.7, 59.8, 59.9, 60. , 60.1, 60.2, 60.3, 60.4, 60.5,\n",
       "       60.6, 60.7, 60.8, 60.9, 61. , 61.1, 61.2, 61.3, 61.4, 61.5, 61.6,\n",
       "       61.7, 61.8, 61.9, 62. , 62.1, 62.2, 62.3, 62.4, 62.5, 62.6, 62.7,\n",
       "       62.8, 62.9, 63. , 63.1, 63.2, 63.3, 63.4, 63.5, 63.6, 63.7, 63.8,\n",
       "       63.9, 64. , 64.1, 64.2, 64.3, 64.4, 64.5, 64.6, 64.7, 64.8, 64.9,\n",
       "       65. , 65.1, 65.2, 65.3, 65.4, 65.5, 65.6, 65.7, 65.8, 65.9, 66. ,\n",
       "       66.1, 66.2, 66.3, 66.4, 66.5, 66.6, 66.7, 66.8, 66.9, 67. , 67.1,\n",
       "       67.2, 67.3, 67.4, 67.5, 67.6, 67.7, 67.8, 67.9, 68. , 68.1, 68.2,\n",
       "       68.3, 68.4, 68.5, 68.6, 68.7, 68.8, 68.9, 69. , 69.1, 69.2, 69.3,\n",
       "       69.4, 69.5, 69.6, 69.7, 69.8, 69.9, 70. , 70.1, 70.2, 70.3, 70.4,\n",
       "       70.5, 70.6, 70.7, 70.8, 70.9, 71. , 71.1, 71.2, 71.3, 71.4, 71.5,\n",
       "       71.6, 71.7, 71.8, 71.9, 72. , 72.1, 72.2, 72.3, 72.4, 72.5, 72.6,\n",
       "       72.7, 72.8, 72.9, 73. , 73.1, 73.2, 73.3, 73.4, 73.5, 73.6, 73.7,\n",
       "       73.8, 73.9, 74. , 74.1, 74.2, 74.3, 74.4, 74.5, 74.6, 74.7, 74.8,\n",
       "       74.9, 75. , 75.1, 75.2, 75.3, 75.4, 75.5, 75.6, 75.7, 75.8, 75.9,\n",
       "       76. , 76.1, 76.2, 76.3, 76.4, 76.5, 76.6, 76.7, 76.8, 76.9, 77. ,\n",
       "       77.1, 77.2, 77.3, 77.4, 77.5, 77.6, 77.7, 77.8, 77.9, 78. , 78.1,\n",
       "       78.2, 78.3, 78.4, 78.5, 78.6, 78.7, 78.8, 78.9, 79. , 79.1, 79.2,\n",
       "       79.3, 79.4, 79.5, 79.6, 79.7, 79.8, 79.9, 80. , 80.1, 80.2, 80.3,\n",
       "       80.4, 80.5, 80.6, 80.7, 80.8, 80.9, 81. , 81.1, 81.2, 81.3, 81.4,\n",
       "       81.5, 81.6, 81.7, 81.8, 81.9, 82. , 82.1, 82.2, 82.3, 82.4, 82.5,\n",
       "       82.6, 82.7, 82.8, 82.9, 83. , 83.1, 83.2, 83.3, 83.4, 83.5, 83.6,\n",
       "       83.7, 83.8, 83.9, 84. , 84.1, 84.2, 84.3, 84.4, 84.5, 84.6, 84.7,\n",
       "       84.8, 84.9, 85. , 85.1, 85.2, 85.3, 85.4, 85.5, 85.6, 85.7, 85.8,\n",
       "       85.9, 86. , 86.1, 86.2, 86.3, 86.4, 86.5, 86.6, 86.7, 86.8, 86.9,\n",
       "       87. , 87.1, 87.2, 87.3, 87.4, 87.5, 87.6, 87.7, 87.8, 87.9, 88. ,\n",
       "       88.1, 88.2, 88.3, 88.4, 88.5, 88.6, 88.7, 88.8, 88.9, 89. , 89.1,\n",
       "       89.2, 89.3, 89.4, 89.5, 89.6, 89.7, 89.8, 89.9, 90. , 90.1, 90.2,\n",
       "       90.3, 90.4, 90.5, 90.6, 90.7, 90.8, 90.9, 91. , 91.1, 91.2, 91.3,\n",
       "       91.4, 91.5, 91.6, 91.7, 91.8, 91.9, 92. , 92.1, 92.2, 92.3, 92.4,\n",
       "       92.5, 92.6, 92.7, 92.8, 92.9, 93. , 93.1, 93.2, 93.3, 93.4, 93.5,\n",
       "       93.6, 93.7, 93.8, 93.9, 94. , 94.1, 94.2, 94.3, 94.4, 94.5, 94.6,\n",
       "       94.7, 94.8, 94.9, 95. , 95.1, 95.2, 95.3, 95.4, 95.5, 95.6, 95.7,\n",
       "       95.8, 95.9, 96. , 96.1, 96.2, 96.3, 96.4, 96.5, 96.6, 96.7, 96.8,\n",
       "       96.9, 97. , 97.1, 97.2, 97.3, 97.4, 97.5, 97.6, 97.7, 97.8, 97.9,\n",
       "       98. , 98.1, 98.2, 98.3, 98.4, 98.5, 98.6, 98.7, 98.8, 98.9, 99. ,\n",
       "       99.1, 99.2, 99.3, 99.4, 99.5, 99.6, 99.7, 99.8, 99.9])"
      ]
     },
     "execution_count": 55,
     "metadata": {},
     "output_type": "execute_result"
    }
   ],
   "source": [
    "alphas = np.arange(0.1,100,0.1)\n",
    "alphas"
   ]
  },
  {
   "cell_type": "markdown",
   "metadata": {},
   "source": [
    "#### Numpy Linspace"
   ]
  },
  {
   "cell_type": "code",
   "execution_count": null,
   "metadata": {},
   "outputs": [
    {
     "data": {
      "text/plain": [
       "array([ 2.,  4.,  6.,  8., 10.])"
      ]
     },
     "execution_count": 59,
     "metadata": {},
     "output_type": "execute_result"
    }
   ],
   "source": [
    "c = np.linspace(2,10,5)\n",
    "c"
   ]
  },
  {
   "cell_type": "code",
   "execution_count": null,
   "metadata": {},
   "outputs": [
    {
     "data": {
      "text/plain": [
       "array([-0.1       ,  2.13333333,  4.36666667,  6.6       ,  8.83333333,\n",
       "       11.06666667, 13.3       , 15.53333333, 17.76666667, 20.        ])"
      ]
     },
     "execution_count": 61,
     "metadata": {},
     "output_type": "execute_result"
    }
   ],
   "source": [
    "D = np.linspace(-0.1,20,10)\n",
    "D"
   ]
  },
  {
   "cell_type": "markdown",
   "metadata": {},
   "source": [
    "#### Generating Random numbers in Numpy"
   ]
  },
  {
   "cell_type": "markdown",
   "metadata": {},
   "source": [
    "##### Generating numbers between 0 to 1 randomly"
   ]
  },
  {
   "cell_type": "code",
   "execution_count": null,
   "metadata": {},
   "outputs": [
    {
     "data": {
      "text/plain": [
       "array([0.04872488, 0.28910966, 0.72096635, 0.02161625, 0.20592277,\n",
       "       0.05077326, 0.30227189, 0.66391029, 0.30811439, 0.58359128,\n",
       "       0.06957095, 0.86740448, 0.13324052, 0.17812466, 0.49592955,\n",
       "       0.86369964, 0.75894384, 0.97048513, 0.75930255, 0.38425003])"
      ]
     },
     "execution_count": 52,
     "metadata": {},
     "output_type": "execute_result"
    }
   ],
   "source": [
    "np.random.seed(21)\n",
    "n = np.random.random(20)\n",
    "n"
   ]
  },
  {
   "cell_type": "code",
   "execution_count": null,
   "metadata": {},
   "outputs": [
    {
     "data": {
      "text/plain": [
       "array([0.04872488, 0.28910966, 0.72096635, 0.02161625, 0.20592277,\n",
       "       0.05077326, 0.30227189, 0.66391029, 0.30811439, 0.58359128,\n",
       "       0.06957095, 0.86740448, 0.13324052, 0.17812466, 0.49592955,\n",
       "       0.86369964, 0.75894384, 0.97048513, 0.75930255, 0.38425003,\n",
       "       0.40871833, 0.71336043, 0.27066977, 0.85410287, 0.91316397,\n",
       "       0.76075607, 0.51666854, 0.16783577, 0.29869229, 0.28394305,\n",
       "       0.32721258, 0.46014033, 0.54436836, 0.21740087, 0.79986833,\n",
       "       0.72668445, 0.84929271, 0.2675218 , 0.61482471, 0.65275607,\n",
       "       0.38681643, 0.41035418, 0.81015755, 0.60036927, 0.89834034,\n",
       "       0.49003223, 0.82831813, 0.85888947, 0.78844514, 0.88765544,\n",
       "       0.69886079])"
      ]
     },
     "execution_count": 53,
     "metadata": {},
     "output_type": "execute_result"
    }
   ],
   "source": [
    "np.random.seed(21)\n",
    "h = np.random.random(51)\n",
    "h"
   ]
  },
  {
   "cell_type": "markdown",
   "metadata": {},
   "source": [
    "##### Generate Random numbers from thrown dice\n",
    "np.random.randint(start,stop+1,size)"
   ]
  },
  {
   "cell_type": "code",
   "execution_count": null,
   "metadata": {},
   "outputs": [
    {
     "data": {
      "text/plain": [
       "array([6, 4, 6, 1, 4, 5, 4, 5, 5, 6, 5, 2, 1, 5, 3, 1, 6, 3, 5, 2, 2, 1,\n",
       "       3, 5, 5, 1, 5, 2, 5, 2, 1, 3, 4, 2, 3, 5, 5, 3, 3, 1, 2, 3, 3, 1,\n",
       "       6, 2, 3, 5, 1, 6, 6, 2, 3, 2, 6, 5, 3, 1, 6, 1, 2, 6, 1, 2, 4, 2,\n",
       "       2, 6, 5, 5, 4, 6, 1, 4, 1, 4, 2, 3, 6, 6, 5, 6, 1, 6, 1, 6, 4, 2,\n",
       "       2, 6, 1, 6, 1, 5, 3, 6, 4, 5, 3, 1])"
      ]
     },
     "execution_count": 57,
     "metadata": {},
     "output_type": "execute_result"
    }
   ],
   "source": [
    "dice = np.random.randint(1,7,100)\n",
    "dice"
   ]
  },
  {
   "cell_type": "code",
   "execution_count": null,
   "metadata": {},
   "outputs": [
    {
     "data": {
      "text/plain": [
       "array([6, 4, 5, 1, 2, 4, 6, 1, 1, 2, 5, 6, 5, 2, 3, 5, 6, 3, 5, 4, 5, 3,\n",
       "       5, 6, 3, 5, 2, 2, 1, 6, 2, 2, 6, 2, 2, 1, 5, 2, 1, 1, 6, 4, 3, 2,\n",
       "       1, 4, 6, 2, 2, 4, 5, 1, 2, 4, 5, 3, 5, 1, 6, 4, 2, 3, 1, 5, 2, 3,\n",
       "       3, 2, 1, 2, 4, 6, 5, 4, 6, 2, 4, 1, 1, 3, 3, 2, 4, 5, 3, 1, 1, 2,\n",
       "       2, 6, 4, 1, 1, 6, 6, 5, 6, 3, 5, 4])"
      ]
     },
     "execution_count": 58,
     "metadata": {},
     "output_type": "execute_result"
    }
   ],
   "source": [
    "np.random.seed(1)\n",
    "dice = np.random.randint(1,7,100)\n",
    "dice"
   ]
  },
  {
   "cell_type": "markdown",
   "metadata": {},
   "source": [
    "##### Generating Normal Distribution\n",
    "np.random.normal(mean,std_dev,size)"
   ]
  },
  {
   "cell_type": "code",
   "execution_count": null,
   "metadata": {},
   "outputs": [
    {
     "data": {
      "text/plain": [
       "array([5.83009688, 4.90521178, 5.15492515, 6.15787491, 4.92956949,\n",
       "       5.36983099, 5.15932544, 5.19001148, 4.78841241, 5.71100143,\n",
       "       5.61545264, 6.02514574, 5.14147922, 5.5885383 , 5.51449627,\n",
       "       5.44861034, 5.34849189, 5.08944579, 5.46922639, 5.3840268 ,\n",
       "       5.36316827, 5.09224849, 5.3809369 , 5.67838957, 5.08661989,\n",
       "       5.65353851, 5.33760028, 5.35271777, 5.59784627, 5.72160208,\n",
       "       5.46098914, 5.48994972, 5.09503311, 5.19214293, 4.93708139,\n",
       "       5.0924978 , 6.05718509, 6.01149819, 5.08884393, 5.70256471,\n",
       "       5.38761817, 5.33730617, 5.79101601, 5.7300802 , 5.22225654,\n",
       "       5.52597094, 5.53915969, 5.90731165, 5.18092949, 5.87020143,\n",
       "       5.39507143, 5.43266943, 5.61470264, 6.22137293, 5.86225699,\n",
       "       5.46351051, 5.85441225, 5.43803443, 5.2787915 , 4.9428004 ,\n",
       "       5.74414537, 5.11560387, 5.99059733, 5.79299414, 5.53823907,\n",
       "       5.58041495, 5.29481216, 5.41016787, 4.92358914, 5.41755376,\n",
       "       4.92382537, 5.69434972, 5.47603183, 5.25510962, 5.48110217,\n",
       "       5.83251146, 5.28219917, 5.55276624, 5.31231193, 5.5184023 ,\n",
       "       5.50646962, 6.01404669, 5.37214297, 5.83571534, 5.12828263,\n",
       "       5.5288396 , 5.03447387, 4.5877526 , 5.37207937, 5.33789832,\n",
       "       5.17526496, 5.21675998, 5.9700905 , 5.26649156, 5.63072207,\n",
       "       5.81990772, 5.88177899, 5.2380423 , 5.08011791, 5.94315335,\n",
       "       5.4450586 , 5.35205546, 5.64966192, 5.27149376, 5.60166354,\n",
       "       5.40289353, 5.244374  , 5.86173624, 5.38653339, 5.81342493,\n",
       "       4.78565995, 6.04328693, 5.29033457, 5.55229801, 5.9028759 ,\n",
       "       5.75632881, 5.13994704, 5.34192661, 5.40163999, 5.2305975 ,\n",
       "       5.22076464, 5.85646712, 4.9641798 , 5.53573861, 5.75332024,\n",
       "       5.21692042, 5.28896594, 5.0895544 , 5.43582293, 5.60332203,\n",
       "       5.9675702 , 5.52169283, 5.58960658, 5.23959861, 5.27323862,\n",
       "       5.25997072, 5.44928179, 5.69479241, 5.93408919, 5.6653685 ,\n",
       "       5.19908293, 5.55823551, 4.84770638, 5.20736769, 5.56059902,\n",
       "       5.45824686, 5.28801095, 5.37082101, 4.58565904, 5.36012303,\n",
       "       5.78317581, 5.84636868, 5.60976286, 5.48676217, 5.30686344,\n",
       "       5.60892405, 5.66379169, 4.55589805, 5.0496052 , 5.92010606,\n",
       "       5.31007812, 4.86618914, 5.8704057 , 5.65558936, 5.52064056,\n",
       "       5.43010544, 5.11143284, 5.43499913, 5.37938931, 5.48547379,\n",
       "       5.30135071, 5.46846794, 5.38043609, 5.66910926, 5.722132  ,\n",
       "       5.72310307, 5.30238128, 5.46969187, 5.44204612, 5.16526716,\n",
       "       5.43063765, 5.16511501, 4.73465505, 5.45246301, 4.96142778,\n",
       "       5.52490432, 4.92302138, 5.00155773, 5.22733525, 5.73259014,\n",
       "       5.54859925, 5.8121037 , 5.71170281, 5.61115922, 5.73179027,\n",
       "       5.23479526, 5.96558085, 5.54279753, 5.21085902, 5.7539536 ,\n",
       "       5.8096992 , 5.72154907, 5.25902544, 5.3291777 , 4.97346257,\n",
       "       5.42762431, 5.14411462, 6.09224514, 5.77239562, 5.8654156 ,\n",
       "       5.57333499, 5.39473987, 5.62071438, 5.38001282, 5.26718034,\n",
       "       5.43612278, 5.91153457, 5.30471077, 5.83706978, 5.11212722,\n",
       "       5.67355354, 5.99545487, 6.01497979, 5.43936465, 5.82464508,\n",
       "       6.34206081, 5.48798304, 5.15872618, 5.02653569, 5.35628085,\n",
       "       5.43553964, 6.049097  , 5.59069923, 5.15058598, 5.14738544,\n",
       "       5.17299692, 5.55287334, 5.31078901, 4.90479642, 5.82318338,\n",
       "       5.62903522, 5.47081749, 5.82662783, 5.67212938, 5.99683711,\n",
       "       6.11008444, 4.95752572, 5.88341768, 5.78335321, 5.81372202,\n",
       "       5.37322125, 5.32862381, 5.26979971, 5.48601962, 5.90144311,\n",
       "       5.55379037, 5.55817316, 5.38278039, 5.65771616, 5.63473756,\n",
       "       5.63765232, 5.29666017, 5.21991501, 5.2461863 , 5.12335208,\n",
       "       5.68721031, 5.75276676, 5.12118101, 5.13348951, 5.29260719,\n",
       "       6.1016988 , 5.58528376, 5.94061817, 5.08343622, 5.77429847,\n",
       "       6.31203477, 5.7362058 , 5.13149724, 5.61124428, 5.44177226,\n",
       "       5.23308208, 5.67087545, 5.67520606, 5.56942878, 5.10278385,\n",
       "       5.41720538, 5.41540871, 5.7429805 , 5.27658778, 4.67293775,\n",
       "       5.40939293, 6.26045941, 5.10230682, 5.75120684, 6.01831204,\n",
       "       5.76461764, 4.81253576, 5.80700304, 5.99375532, 4.96855144,\n",
       "       5.38115175, 5.66782391, 5.82315491, 5.46292036, 6.02951263,\n",
       "       5.66766923, 5.19325954, 5.44820889, 4.91107207, 5.56429044,\n",
       "       5.46917597, 5.56173471, 5.47842013, 5.75748434, 5.22337814,\n",
       "       5.37751742, 5.21110301, 5.33569909, 5.10759149, 5.45397463,\n",
       "       5.39553241, 5.36050727, 5.33553252, 5.55016657, 5.0682566 ,\n",
       "       4.92069034, 5.62196753, 4.9366139 , 5.69306384, 5.52532438,\n",
       "       5.57147102, 5.39867042, 6.07818435, 5.62109571, 5.66335839,\n",
       "       5.3593594 , 5.64215591, 5.60424228, 5.64865666, 5.22825201,\n",
       "       5.74943151, 5.95264196, 5.37664697, 5.52066866, 5.74483548,\n",
       "       5.87318798, 5.41614829, 5.56911277, 5.91555147, 5.69005877,\n",
       "       5.65578856, 5.75239554, 5.60143183, 5.96611883, 4.96384477,\n",
       "       5.34354953, 5.70276333, 5.0407224 , 5.8021634 , 5.23064294,\n",
       "       5.45663614, 5.9143368 , 5.31243708, 5.53208665, 5.74337299,\n",
       "       5.50019591, 5.55377114, 5.46026516, 5.58889768, 5.59623108,\n",
       "       4.82889956, 5.5186574 , 5.93101452, 5.37757609, 5.39772221,\n",
       "       5.02959522, 5.42678936, 6.07573238, 5.27148455, 5.66623238,\n",
       "       5.53513485, 5.29376975, 5.27565559, 5.84278778, 5.1078087 ,\n",
       "       5.51569318, 5.62610542, 5.8273453 , 5.56903719, 5.65430962,\n",
       "       5.56345503, 5.31220662, 5.24620645, 5.81905538, 4.87719153,\n",
       "       5.83816364, 5.49926344, 5.51131125, 5.52841427, 5.3750578 ,\n",
       "       5.80668945, 5.36760655, 5.30027901, 5.30439725, 5.49877572,\n",
       "       5.22662893, 5.46284081, 6.01262298, 5.83083852, 5.9000835 ,\n",
       "       5.26920637, 5.18595429, 5.22967046, 5.96575716, 5.56632923,\n",
       "       5.50614889, 6.10360868, 5.2942189 , 5.08414747, 5.19480673,\n",
       "       5.04993768, 6.00079969, 5.82485427, 5.46836465, 5.6924599 ,\n",
       "       5.44498716, 5.50520124, 5.56990817, 5.3909552 , 5.0198672 ,\n",
       "       5.50390859, 5.14201504, 5.13857149, 5.31235542, 5.7208402 ,\n",
       "       5.87231924, 5.49489723, 5.27672663, 5.76163439, 5.70749091,\n",
       "       5.98545602, 5.30593647, 5.47140625, 4.85939671, 5.46974382,\n",
       "       5.97688238, 5.19371389, 5.23283501, 5.9008345 , 5.26986556,\n",
       "       5.16581057, 5.40444635, 5.23500084, 5.74250122, 5.67793868,\n",
       "       5.65616452, 5.72581621, 5.76336919, 5.37087505, 5.1967922 ,\n",
       "       5.15915392, 5.32354464, 5.04417581, 5.30732698, 5.25033095,\n",
       "       5.43072614, 5.49641659, 4.89591697, 5.427744  , 5.79795317,\n",
       "       5.4129351 , 5.1768168 , 5.52592815, 5.20223144, 5.50497678,\n",
       "       5.47007667, 5.59099537, 4.99311169, 5.60233767, 5.41408304,\n",
       "       5.15345243, 5.19883392, 5.57608195, 4.96542298, 5.62986304,\n",
       "       5.58302069, 5.84005794, 5.77565458, 6.06193727, 5.6383062 ,\n",
       "       5.47056482, 5.74837385, 5.83111156, 5.72447513, 5.56723573,\n",
       "       5.1676539 , 5.42938589, 5.95144025, 5.1765972 , 5.21304398,\n",
       "       5.43333963, 5.53426147, 5.60639245, 5.77816526, 5.79077558,\n",
       "       5.62760899, 5.52745913, 5.3527372 , 5.86085525, 5.75819599,\n",
       "       5.54269512, 5.1767265 , 5.13573488, 5.88859625, 5.24232498,\n",
       "       5.64397605, 5.83462741, 5.2260543 , 5.70691995, 5.22147874,\n",
       "       5.45746881, 5.23666078, 5.36437054, 5.42389505, 5.75238644,\n",
       "       4.94047668, 5.89563798, 5.10968548, 4.82258722, 5.92434718,\n",
       "       5.46186115, 5.39547954, 5.79950622, 5.19001898, 5.40798411,\n",
       "       5.94929184, 5.14437553, 5.71261201, 5.89327634, 5.70536959,\n",
       "       5.53137008, 5.75862112, 5.55840486, 5.16375003, 5.71682845,\n",
       "       5.34982921, 5.42667897, 6.15019716, 5.54823153, 5.44807081,\n",
       "       5.64552036, 5.60121049, 5.66218669, 5.83228452, 5.23808281,\n",
       "       5.52936805, 5.40191756, 5.84148419, 5.58446585, 5.69997735,\n",
       "       5.45620994, 5.2125532 , 4.82369582, 5.57079214, 5.43587175,\n",
       "       5.78877474, 4.88854522, 5.27223323, 6.02605049, 5.55095175,\n",
       "       5.54627537, 5.94127791, 4.73728989, 4.97208557, 5.3921593 ,\n",
       "       5.81205868, 5.65386498, 5.20427307, 5.44769308, 5.60307753,\n",
       "       4.86820796, 5.41887473, 5.13153635, 5.38496982, 5.83161837,\n",
       "       5.33102707, 5.68362303, 4.72740949, 6.06678162, 5.25272204,\n",
       "       5.19904693, 5.70444194, 5.8802852 , 6.01924591, 5.3203992 ,\n",
       "       5.8916068 , 5.70956323, 5.06921854, 5.35903564, 5.96853197,\n",
       "       5.6986503 , 5.48969174, 5.15501602, 5.91780485, 5.14631933,\n",
       "       5.59451803, 5.33441201, 5.32172824, 5.27048003, 5.44634172,\n",
       "       4.92057499, 5.24386186, 5.15080764, 5.42877072, 5.89716164,\n",
       "       5.53186785, 5.28754069, 5.5689371 , 5.45288352, 5.74161951,\n",
       "       5.53353143, 5.62956982, 5.39118888, 5.48443017, 5.28843944,\n",
       "       5.36883096, 5.2328923 , 5.25680372, 5.6668098 , 5.44663513,\n",
       "       5.36603125, 5.74457428, 5.82368158, 5.11924261, 5.9265878 ,\n",
       "       5.92109159, 5.54793414, 5.39161698, 5.5980031 , 5.69281805,\n",
       "       5.44319655, 5.75485517, 5.36820148, 5.31378751, 4.52458799,\n",
       "       5.07290258, 5.86054738, 5.44915889, 5.50488812, 5.31403472,\n",
       "       5.68975986, 6.2112939 , 5.87775484, 5.38609534, 5.28948592,\n",
       "       5.59102078, 5.63429235, 5.95173995, 5.33075025, 5.67208533,\n",
       "       5.56979502, 5.45444438, 5.94849617, 5.47835367, 5.99848955,\n",
       "       5.21731126, 5.38592581, 5.35880394, 5.27558948, 5.51081585,\n",
       "       5.36305251, 5.84842217, 5.48244199, 5.30105019, 6.01121071,\n",
       "       5.26344679, 5.37658813, 5.31350086, 6.04927962, 5.73915884,\n",
       "       5.85461473, 6.02487849, 5.29499174, 5.77344993, 5.14948998,\n",
       "       5.96860886, 5.14192297, 5.89473941, 5.29911915, 5.59356441,\n",
       "       5.59795453, 6.10842692, 5.06487022, 5.30952431, 5.53937121,\n",
       "       5.84222581, 5.5226276 , 5.71020475, 5.65511631, 5.4073007 ,\n",
       "       5.27598566, 5.45310003, 5.26930347, 4.96057113, 5.50887522,\n",
       "       5.28486021, 5.33862029, 5.52922938, 5.61275926, 5.32100697,\n",
       "       4.86569831, 5.85830719, 5.33960227, 5.82169591, 5.17048628,\n",
       "       5.07520533, 5.67315047, 5.04907483, 5.21204996, 5.16150657,\n",
       "       5.50655219, 5.67145811, 5.78839181, 6.14776622, 5.36911236,\n",
       "       5.23478725, 5.37425729, 5.65996776, 5.17544159, 5.17232069,\n",
       "       5.73848439, 5.70108164, 6.03777751, 5.28150067, 5.33686308,\n",
       "       5.67895406, 5.31467631, 5.92043153, 5.37727665, 5.90427909,\n",
       "       5.95484222, 5.71602948, 5.11310675, 5.26221371, 6.10030192,\n",
       "       5.4165645 , 5.91994749, 5.49216593, 5.56317456, 5.75590393,\n",
       "       5.81556868, 5.31753649, 5.62201895, 5.42322075, 6.01289213,\n",
       "       5.19811178, 5.74470461, 5.24603283, 5.54774551, 5.50034043,\n",
       "       5.67541803, 5.11324691, 5.15521712, 5.60737403, 5.79495567,\n",
       "       5.29902105, 5.26484835, 5.10841192, 5.10442702, 5.38210476,\n",
       "       5.39993068, 5.7781651 , 5.29142192, 5.08696271, 5.23074995,\n",
       "       5.43041805, 5.35751178, 4.90297571, 5.58221381, 5.77592897,\n",
       "       5.92921364, 5.4736112 , 5.71809128, 5.12387709, 5.47610765,\n",
       "       5.48823403, 5.46945605, 5.10401539, 5.89062746, 5.3270886 ,\n",
       "       5.87714752, 5.52016628, 4.97400703, 5.34935736, 5.2434828 ,\n",
       "       5.49501155, 5.34209884, 5.32806407, 5.63795241, 5.73633745,\n",
       "       5.15051299, 5.05845263, 5.5451149 , 5.4044509 , 5.81339103,\n",
       "       5.4148784 , 5.63258426, 5.5256692 , 5.41693368, 5.81017988,\n",
       "       5.54493239, 4.89687537, 5.08510242, 5.60708942, 5.70927634,\n",
       "       5.57572741, 5.70169572, 5.67043383, 5.74286487, 5.19971629,\n",
       "       4.90877584, 5.84600395, 5.22187341, 5.74887134, 5.19142525,\n",
       "       4.97356978, 5.49101791, 5.9289799 , 5.26922952, 5.27220891,\n",
       "       5.61242963, 5.45985858, 5.13824224, 5.92075763, 5.7989223 ,\n",
       "       5.73027731, 5.15523034, 5.52011274, 5.69889493, 5.22895586,\n",
       "       5.73953107, 5.47305407, 5.15421006, 5.49117096, 5.38259895,\n",
       "       5.48525194, 5.76583914, 5.83968951, 5.50954639, 4.95625787,\n",
       "       5.47676166, 5.09797894, 5.15759798, 5.0723012 , 5.6808452 ,\n",
       "       5.7687839 , 5.31970247, 5.54692917, 5.66671604, 5.02220764,\n",
       "       5.48003653, 5.62003415, 5.43902575, 5.24222754, 5.65538369,\n",
       "       5.61801633, 5.35368774, 5.19767328, 6.06378589, 5.05913262,\n",
       "       5.3633304 , 5.67936016, 5.26699234, 5.36638817, 5.47842673,\n",
       "       5.69236064, 5.38846242, 5.33762861, 5.20930606, 5.03901613,\n",
       "       5.22948074, 5.9110584 , 5.24272503, 5.47258974, 5.54275646,\n",
       "       5.3741385 , 4.83774641, 5.52978831, 5.57764361, 5.18329668,\n",
       "       5.49868568, 5.73763505, 6.02399762, 5.5524752 , 5.60219421,\n",
       "       5.18523331, 5.33771325, 5.28484816, 5.75237184, 5.77028197,\n",
       "       5.37468124, 5.69223372, 5.45646295, 5.74715202, 5.85888507,\n",
       "       5.31265877, 5.14570249, 5.69006566, 5.33466869, 5.32481783,\n",
       "       5.48782982, 5.54984473, 5.26054364, 5.29851545, 5.62659441,\n",
       "       6.0330136 , 6.01522236, 5.59754231, 5.18299818, 5.4308075 ,\n",
       "       5.55740302, 5.13922293, 5.73366282, 5.45596637, 5.59795278,\n",
       "       5.50756125, 5.44113491, 5.33588127, 5.13429972, 5.42364908,\n",
       "       5.17558789, 5.54261392, 5.49560271, 5.35989148, 5.58112234,\n",
       "       5.37083308, 5.40419761, 5.04895496, 5.61260964, 5.45254918,\n",
       "       5.32213341, 5.78014863, 5.40963291, 6.16971982, 5.87438934,\n",
       "       5.61567916, 5.76696778, 5.31213156, 5.25055296, 5.90452644,\n",
       "       5.31086369, 5.66271661, 5.87405916, 5.6232494 , 4.97412225,\n",
       "       5.80763323, 5.39719346, 5.40582855, 5.12104108, 5.87498878,\n",
       "       5.45140247, 5.05843939, 5.3694825 , 5.54857603, 5.51372623,\n",
       "       5.10096142, 5.84223956, 5.1085321 , 5.45022104, 5.29723292,\n",
       "       5.14751864, 5.8621965 , 5.34249348, 4.68974866, 5.90978541,\n",
       "       5.50553705, 5.26303071, 5.38480458, 5.73540992, 5.68242071,\n",
       "       5.01819017, 5.12552372, 5.2982267 , 5.1915778 , 6.1610905 ,\n",
       "       5.46162851, 4.91103192, 5.80014378, 5.83640783, 5.61209594,\n",
       "       5.58330481, 6.05086626, 5.38318965, 6.15805155, 5.74849747,\n",
       "       5.42957911, 5.69273949, 5.46016433, 5.81953506, 5.76511557])"
      ]
     },
     "execution_count": 114,
     "metadata": {},
     "output_type": "execute_result"
    }
   ],
   "source": [
    "np.random.seed(64)\n",
    "Height = np.random.normal(5.5,0.3,size=1000)\n",
    "Height"
   ]
  },
  {
   "cell_type": "code",
   "execution_count": null,
   "metadata": {},
   "outputs": [],
   "source": [
    "from warnings import filterwarnings\n",
    "filterwarnings ('ignore')"
   ]
  },
  {
   "cell_type": "code",
   "execution_count": null,
   "metadata": {},
   "outputs": [
    {
     "ename": "NameError",
     "evalue": "name 'Height' is not defined",
     "output_type": "error",
     "traceback": [
      "\u001b[1;31m---------------------------------------------------------------------------\u001b[0m",
      "\u001b[1;31mNameError\u001b[0m                                 Traceback (most recent call last)",
      "\u001b[1;32me:\\Advanced Python\\Session 7 Numpy Array\\Numpyarrays.ipynb Cell 80\u001b[0m line \u001b[0;36m2\n\u001b[0;32m      <a href='vscode-notebook-cell:/e%3A/Advanced%20Python/Session%207%20Numpy%20Array/Numpyarrays.ipynb#Y142sZmlsZQ%3D%3D?line=0'>1</a>\u001b[0m \u001b[39mimport\u001b[39;00m \u001b[39mseaborn\u001b[39;00m \u001b[39mas\u001b[39;00m \u001b[39msns\u001b[39;00m\n\u001b[1;32m----> <a href='vscode-notebook-cell:/e%3A/Advanced%20Python/Session%207%20Numpy%20Array/Numpyarrays.ipynb#Y142sZmlsZQ%3D%3D?line=1'>2</a>\u001b[0m sns\u001b[39m.\u001b[39mhistplot(data\u001b[39m=\u001b[39mHeight,kde\u001b[39m=\u001b[39m\u001b[39mTrue\u001b[39;00m)\n",
      "\u001b[1;31mNameError\u001b[0m: name 'Height' is not defined"
     ]
    }
   ],
   "source": [
    "import seaborn as sns\n",
    "sns.histplot(data=Height,kde=True)"
   ]
  },
  {
   "cell_type": "code",
   "execution_count": 52,
   "metadata": {},
   "outputs": [
    {
     "ename": "NameError",
     "evalue": "name 'Height' is not defined",
     "output_type": "error",
     "traceback": [
      "\u001b[1;31m---------------------------------------------------------------------------\u001b[0m",
      "\u001b[1;31mNameError\u001b[0m                                 Traceback (most recent call last)",
      "\u001b[1;32me:\\Advanced Python\\Session 7 Numpy Array\\Numpyarrays.ipynb Cell 81\u001b[0m line \u001b[0;36m1\n\u001b[1;32m----> <a href='vscode-notebook-cell:/e%3A/Advanced%20Python/Session%207%20Numpy%20Array/Numpyarrays.ipynb#Y143sZmlsZQ%3D%3D?line=0'>1</a>\u001b[0m np\u001b[39m.\u001b[39mmean(Height)\n",
      "\u001b[1;31mNameError\u001b[0m: name 'Height' is not defined"
     ]
    }
   ],
   "source": [
    "np.mean(Height)"
   ]
  },
  {
   "cell_type": "markdown",
   "metadata": {},
   "source": [
    "#### Common functions in Numpy Library"
   ]
  },
  {
   "cell_type": "code",
   "execution_count": 53,
   "metadata": {},
   "outputs": [
    {
     "data": {
      "text/plain": [
       "array([6, 4, 5, 6, 4, 0, 2])"
      ]
     },
     "execution_count": 53,
     "metadata": {},
     "output_type": "execute_result"
    }
   ],
   "source": [
    "X = np.array([6,4,5,6,4,0,2])\n",
    "X "
   ]
  },
  {
   "cell_type": "code",
   "execution_count": 54,
   "metadata": {},
   "outputs": [
    {
     "data": {
      "text/plain": [
       "numpy.ndarray"
      ]
     },
     "execution_count": 54,
     "metadata": {},
     "output_type": "execute_result"
    }
   ],
   "source": [
    "type(X)"
   ]
  },
  {
   "cell_type": "code",
   "execution_count": 55,
   "metadata": {},
   "outputs": [
    {
     "data": {
      "text/plain": [
       "array([2.44948974, 2.        , 2.23606798, 2.44948974, 2.        ,\n",
       "       0.        , 1.41421356])"
      ]
     },
     "execution_count": 55,
     "metadata": {},
     "output_type": "execute_result"
    }
   ],
   "source": [
    "np.sqrt(X)"
   ]
  },
  {
   "cell_type": "code",
   "execution_count": 56,
   "metadata": {},
   "outputs": [
    {
     "data": {
      "text/plain": [
       "array([-0.2794155 , -0.7568025 , -0.95892427, -0.2794155 , -0.7568025 ,\n",
       "        0.        ,  0.90929743])"
      ]
     },
     "execution_count": 56,
     "metadata": {},
     "output_type": "execute_result"
    }
   ],
   "source": [
    "np.sin(X)"
   ]
  },
  {
   "cell_type": "code",
   "execution_count": 59,
   "metadata": {},
   "outputs": [
    {
     "data": {
      "text/plain": [
       "0.7853981633974483"
      ]
     },
     "execution_count": 59,
     "metadata": {},
     "output_type": "execute_result"
    }
   ],
   "source": [
    "from math import pi\n",
    "deg = 45\n",
    "rad = deg*(pi/180)\n",
    "rad"
   ]
  },
  {
   "cell_type": "code",
   "execution_count": 57,
   "metadata": {},
   "outputs": [
    {
     "data": {
      "text/plain": [
       "array([ 0.96017029, -0.65364362,  0.28366219,  0.96017029, -0.65364362,\n",
       "        1.        , -0.41614684])"
      ]
     },
     "execution_count": 57,
     "metadata": {},
     "output_type": "execute_result"
    }
   ],
   "source": [
    "np.cos(X)"
   ]
  },
  {
   "cell_type": "code",
   "execution_count": 60,
   "metadata": {},
   "outputs": [
    {
     "data": {
      "text/plain": [
       "0.7071067811865476"
      ]
     },
     "execution_count": 60,
     "metadata": {},
     "output_type": "execute_result"
    }
   ],
   "source": [
    "np.cos(rad)"
   ]
  },
  {
   "cell_type": "code",
   "execution_count": 61,
   "metadata": {},
   "outputs": [
    {
     "data": {
      "text/plain": [
       "0.9999999999999999"
      ]
     },
     "execution_count": 61,
     "metadata": {},
     "output_type": "execute_result"
    }
   ],
   "source": [
    "np.tan(rad)"
   ]
  },
  {
   "cell_type": "code",
   "execution_count": 62,
   "metadata": {},
   "outputs": [
    {
     "data": {
      "text/plain": [
       "array([-0.29100619,  1.15782128, -3.38051501, -0.29100619,  1.15782128,\n",
       "        0.        , -2.18503986])"
      ]
     },
     "execution_count": 62,
     "metadata": {},
     "output_type": "execute_result"
    }
   ],
   "source": [
    "np.tan(X)"
   ]
  },
  {
   "cell_type": "code",
   "execution_count": 63,
   "metadata": {},
   "outputs": [
    {
     "name": "stderr",
     "output_type": "stream",
     "text": [
      "C:\\Users\\Admin\\AppData\\Local\\Temp\\ipykernel_9836\\3560718848.py:1: RuntimeWarning: divide by zero encountered in log10\n",
      "  np.log10(X)\n"
     ]
    },
    {
     "data": {
      "text/plain": [
       "array([0.77815125, 0.60205999, 0.69897   , 0.77815125, 0.60205999,\n",
       "             -inf, 0.30103   ])"
      ]
     },
     "execution_count": 63,
     "metadata": {},
     "output_type": "execute_result"
    }
   ],
   "source": [
    "np.log10(X)"
   ]
  },
  {
   "cell_type": "code",
   "execution_count": 64,
   "metadata": {},
   "outputs": [
    {
     "data": {
      "text/plain": [
       "array([403.42879349,  54.59815003, 148.4131591 , 403.42879349,\n",
       "        54.59815003,   1.        ,   7.3890561 ])"
      ]
     },
     "execution_count": 64,
     "metadata": {},
     "output_type": "execute_result"
    }
   ],
   "source": [
    "np.exp(X)"
   ]
  },
  {
   "cell_type": "markdown",
   "metadata": {},
   "source": [
    "#### Plot the curve X*sin(x) - X^2"
   ]
  },
  {
   "cell_type": "code",
   "execution_count": 65,
   "metadata": {},
   "outputs": [
    {
     "data": {
      "text/plain": [
       "array([-12.56637061, -12.46637061, -12.36637061, -12.26637061,\n",
       "       -12.16637061, -12.06637061, -11.96637061, -11.86637061,\n",
       "       -11.76637061, -11.66637061, -11.56637061, -11.46637061,\n",
       "       -11.36637061, -11.26637061, -11.16637061, -11.06637061,\n",
       "       -10.96637061, -10.86637061, -10.76637061, -10.66637061,\n",
       "       -10.56637061, -10.46637061, -10.36637061, -10.26637061,\n",
       "       -10.16637061, -10.06637061,  -9.96637061,  -9.86637061,\n",
       "        -9.76637061,  -9.66637061,  -9.56637061,  -9.46637061,\n",
       "        -9.36637061,  -9.26637061,  -9.16637061,  -9.06637061,\n",
       "        -8.96637061,  -8.86637061,  -8.76637061,  -8.66637061,\n",
       "        -8.56637061,  -8.46637061,  -8.36637061,  -8.26637061,\n",
       "        -8.16637061,  -8.06637061,  -7.96637061,  -7.86637061,\n",
       "        -7.76637061,  -7.66637061,  -7.56637061,  -7.46637061,\n",
       "        -7.36637061,  -7.26637061,  -7.16637061,  -7.06637061,\n",
       "        -6.96637061,  -6.86637061,  -6.76637061,  -6.66637061,\n",
       "        -6.56637061,  -6.46637061,  -6.36637061,  -6.26637061,\n",
       "        -6.16637061,  -6.06637061,  -5.96637061,  -5.86637061,\n",
       "        -5.76637061,  -5.66637061,  -5.56637061,  -5.46637061,\n",
       "        -5.36637061,  -5.26637061,  -5.16637061,  -5.06637061,\n",
       "        -4.96637061,  -4.86637061,  -4.76637061,  -4.66637061,\n",
       "        -4.56637061,  -4.46637061,  -4.36637061,  -4.26637061,\n",
       "        -4.16637061,  -4.06637061,  -3.96637061,  -3.86637061,\n",
       "        -3.76637061,  -3.66637061,  -3.56637061,  -3.46637061,\n",
       "        -3.36637061,  -3.26637061,  -3.16637061,  -3.06637061,\n",
       "        -2.96637061,  -2.86637061,  -2.76637061,  -2.66637061,\n",
       "        -2.56637061,  -2.46637061,  -2.36637061,  -2.26637061,\n",
       "        -2.16637061,  -2.06637061,  -1.96637061,  -1.86637061,\n",
       "        -1.76637061,  -1.66637061,  -1.56637061,  -1.46637061,\n",
       "        -1.36637061,  -1.26637061,  -1.16637061,  -1.06637061,\n",
       "        -0.96637061,  -0.86637061,  -0.76637061,  -0.66637061,\n",
       "        -0.56637061,  -0.46637061,  -0.36637061,  -0.26637061,\n",
       "        -0.16637061,  -0.06637061,   0.03362939,   0.13362939,\n",
       "         0.23362939,   0.33362939,   0.43362939,   0.53362939,\n",
       "         0.63362939,   0.73362939,   0.83362939,   0.93362939,\n",
       "         1.03362939,   1.13362939,   1.23362939,   1.33362939,\n",
       "         1.43362939,   1.53362939,   1.63362939,   1.73362939,\n",
       "         1.83362939,   1.93362939,   2.03362939,   2.13362939,\n",
       "         2.23362939,   2.33362939,   2.43362939,   2.53362939,\n",
       "         2.63362939,   2.73362939,   2.83362939,   2.93362939,\n",
       "         3.03362939,   3.13362939,   3.23362939,   3.33362939,\n",
       "         3.43362939,   3.53362939,   3.63362939,   3.73362939,\n",
       "         3.83362939,   3.93362939,   4.03362939,   4.13362939,\n",
       "         4.23362939,   4.33362939,   4.43362939,   4.53362939,\n",
       "         4.63362939,   4.73362939,   4.83362939,   4.93362939,\n",
       "         5.03362939,   5.13362939,   5.23362939,   5.33362939,\n",
       "         5.43362939,   5.53362939,   5.63362939,   5.73362939,\n",
       "         5.83362939,   5.93362939,   6.03362939,   6.13362939,\n",
       "         6.23362939,   6.33362939,   6.43362939,   6.53362939,\n",
       "         6.63362939,   6.73362939,   6.83362939,   6.93362939,\n",
       "         7.03362939,   7.13362939,   7.23362939,   7.33362939,\n",
       "         7.43362939,   7.53362939,   7.63362939,   7.73362939,\n",
       "         7.83362939,   7.93362939,   8.03362939,   8.13362939,\n",
       "         8.23362939,   8.33362939,   8.43362939,   8.53362939,\n",
       "         8.63362939,   8.73362939,   8.83362939,   8.93362939,\n",
       "         9.03362939,   9.13362939,   9.23362939,   9.33362939,\n",
       "         9.43362939,   9.53362939,   9.63362939,   9.73362939,\n",
       "         9.83362939,   9.93362939,  10.03362939,  10.13362939,\n",
       "        10.23362939,  10.33362939,  10.43362939,  10.53362939,\n",
       "        10.63362939,  10.73362939,  10.83362939,  10.93362939,\n",
       "        11.03362939,  11.13362939,  11.23362939,  11.33362939,\n",
       "        11.43362939,  11.53362939,  11.63362939,  11.73362939,\n",
       "        11.83362939,  11.93362939,  12.03362939,  12.13362939,\n",
       "        12.23362939,  12.33362939,  12.43362939,  12.53362939])"
      ]
     },
     "execution_count": 65,
     "metadata": {},
     "output_type": "execute_result"
    }
   ],
   "source": [
    "x = np.arange(-4*pi , 4*pi , 0.1)\n",
    "x"
   ]
  },
  {
   "cell_type": "code",
   "execution_count": 66,
   "metadata": {},
   "outputs": [
    {
     "data": {
      "text/plain": [
       "array([1.57913670e+02, 1.54165836e+02, 1.50470304e+02, 1.46838888e+02,\n",
       "       1.43282766e+02, 1.39812374e+02, 1.36437305e+02, 1.33166226e+02,\n",
       "       1.30006800e+02, 1.26965621e+02, 1.24048164e+02, 1.21258741e+02,\n",
       "       1.18600479e+02, 1.16075303e+02, 1.13683936e+02, 1.11425909e+02,\n",
       "       1.09299590e+02, 1.07302213e+02, 1.05429932e+02, 1.03677875e+02,\n",
       "       1.02040214e+02, 1.00510245e+02, 9.90804664e+01, 9.77426795e+01,\n",
       "       9.64880824e+01, 9.53073749e+01, 9.41908655e+01, 9.31285808e+01,\n",
       "       9.21103766e+01, 9.11260482e+01, 9.01654404e+01, 8.92185546e+01,\n",
       "       8.82756523e+01, 8.73273544e+01, 8.63647347e+01, 8.53794069e+01,\n",
       "       8.43636043e+01, 8.33102515e+01, 8.22130268e+01, 8.10664161e+01,\n",
       "       7.98657562e+01, 7.86072687e+01, 7.72880832e+01, 7.59062503e+01,\n",
       "       7.44607442e+01, 7.29514551e+01, 7.13791716e+01, 6.97455536e+01,\n",
       "       6.80530961e+01, 6.63050842e+01, 6.45055407e+01, 6.26591657e+01,\n",
       "       6.07712704e+01, 5.88477056e+01, 5.68947845e+01, 5.49192031e+01,\n",
       "       5.29279569e+01, 5.09282564e+01, 4.89274418e+01, 4.69328976e+01,\n",
       "       4.49519688e+01, 4.29918792e+01, 4.10596527e+01, 3.91620385e+01,\n",
       "       3.73054410e+01, 3.54958549e+01, 3.37388071e+01, 3.20393045e+01,\n",
       "       3.04017894e+01, 2.88301019e+01, 2.73274509e+01, 2.58963928e+01,\n",
       "       2.45388177e+01, 2.32559450e+01, 2.20483262e+01, 2.09158557e+01,\n",
       "       1.98577893e+01, 1.88727701e+01, 1.79588612e+01, 1.71135842e+01,\n",
       "       1.63339642e+01, 1.56165791e+01, 1.49576141e+01, 1.43529188e+01,\n",
       "       1.37980683e+01, 1.32884254e+01, 1.28192048e+01, 1.23855370e+01,\n",
       "       1.19825327e+01, 1.16053453e+01, 1.12492321e+01, 1.09096120e+01,\n",
       "       1.05821211e+01, 1.02626627e+01, 9.94745469e+00, 9.63306993e+00,\n",
       "       9.31647246e+00, 8.99504717e+00, 8.66662347e+00, 8.32949252e+00,\n",
       "       7.98241792e+00, 7.62463989e+00, 7.25587278e+00, 6.87629632e+00,\n",
       "       6.48654058e+00, 6.08766498e+00, 5.68113187e+00, 5.26877475e+00,\n",
       "       4.85276208e+00, 4.43555675e+00, 4.01987218e+00, 3.60862547e+00,\n",
       "       3.20488833e+00, 2.81183648e+00, 2.43269819e+00, 2.07070276e+00,\n",
       "       1.72902954e+00, 1.41075823e+00, 1.11882116e+00, 8.55958203e-01,\n",
       "       6.24674806e-01, 4.27203914e-01, 2.65472109e-01, 1.41070518e-01,\n",
       "       5.52308497e-02, 8.80688352e-03, 2.26165800e-03, 3.56605285e-02,\n",
       "       1.08670188e-01, 2.20563663e-01, 3.70231218e-01, 5.56197026e-01,\n",
       "       7.76641376e-01, 1.02942813e+00, 1.31213705e+00, 1.62210059e+00,\n",
       "       1.95644461e+00, 2.31213250e+00, 2.68601217e+00, 3.07486511e+00,\n",
       "       3.47545703e+00, 3.88458934e+00, 4.29915064e+00, 4.71616772e+00,\n",
       "       5.13285520e+00, 5.54666315e+00, 5.95532210e+00, 6.35688465e+00,\n",
       "       6.74976321e+00, 7.13276327e+00, 7.50511158e+00, 7.86647904e+00,\n",
       "       8.21699762e+00, 8.55727131e+00, 8.88838058e+00, 9.21188044e+00,\n",
       "       9.52979190e+00, 9.84458679e+00, 1.01591663e+01, 1.04768331e+01,\n",
       "       1.08012575e+01, 1.11364378e+01, 1.14866561e+01, 1.18564280e+01,\n",
       "       1.22504497e+01, 1.26735404e+01, 1.31305822e+01, 1.36264580e+01,\n",
       "       1.41659879e+01, 1.47538645e+01, 1.53945894e+01, 1.60924094e+01,\n",
       "       1.68512558e+01, 1.76746855e+01, 1.85658255e+01, 1.95273218e+01,\n",
       "       2.05612932e+01, 2.16692906e+01, 2.28522617e+01, 2.41105238e+01,\n",
       "       2.54437419e+01, 2.68509163e+01, 2.83303761e+01, 2.98797821e+01,\n",
       "       3.14961370e+01, 3.31758046e+01, 3.49145360e+01, 3.67075046e+01,\n",
       "       3.85493485e+01, 4.04342198e+01, 4.23558415e+01, 4.43075698e+01,\n",
       "       4.62824628e+01, 4.82733537e+01, 5.02729282e+01, 5.22738055e+01,\n",
       "       5.42686217e+01, 5.62501144e+01, 5.82112083e+01, 6.01451002e+01,\n",
       "       6.20453425e+01, 6.39059243e+01, 6.57213498e+01, 6.74867109e+01,\n",
       "       6.91977564e+01, 7.08509534e+01, 7.24435428e+01, 7.39735870e+01,\n",
       "       7.54400086e+01, 7.68426208e+01, 7.81821482e+01, 7.94602376e+01,\n",
       "       8.06794588e+01, 8.18432950e+01, 8.29561228e+01, 8.40231821e+01,\n",
       "       8.50505355e+01, 8.60450183e+01, 8.70141782e+01, 8.79662070e+01,\n",
       "       8.89098634e+01, 8.98543882e+01, 9.08094129e+01, 9.17848622e+01,\n",
       "       9.27908516e+01, 9.38375817e+01, 9.49352286e+01, 9.60938338e+01,\n",
       "       9.73231932e+01, 9.86327471e+01, 1.00031472e+02, 1.01527776e+02,\n",
       "       1.03129398e+02, 1.04843314e+02, 1.06675648e+02, 1.08631593e+02,\n",
       "       1.10715336e+02, 1.12930005e+02, 1.15277606e+02, 1.17758992e+02,\n",
       "       1.20373834e+02, 1.23120598e+02, 1.25996553e+02, 1.28997771e+02,\n",
       "       1.32119154e+02, 1.35354469e+02, 1.38696397e+02, 1.42136592e+02,\n",
       "       1.45665755e+02, 1.49273715e+02, 1.52949527e+02, 1.56681572e+02])"
      ]
     },
     "execution_count": 66,
     "metadata": {},
     "output_type": "execute_result"
    }
   ],
   "source": [
    "y = x*np.sin(x)+x**2\n",
    "y"
   ]
  },
  {
   "cell_type": "code",
   "execution_count": 68,
   "metadata": {},
   "outputs": [
    {
     "ename": "AttributeError",
     "evalue": "module 'matplotlib' has no attribute 'figure'",
     "output_type": "error",
     "traceback": [
      "\u001b[1;31m---------------------------------------------------------------------------\u001b[0m",
      "\u001b[1;31mAttributeError\u001b[0m                            Traceback (most recent call last)",
      "\u001b[1;32me:\\Advanced Python\\Session 7 Numpy Array\\Numpyarrays.ipynb Cell 97\u001b[0m line \u001b[0;36m2\n\u001b[0;32m      <a href='vscode-notebook-cell:/e%3A/Advanced%20Python/Session%207%20Numpy%20Array/Numpyarrays.ipynb#Y165sZmlsZQ%3D%3D?line=0'>1</a>\u001b[0m \u001b[39mimport\u001b[39;00m \u001b[39mmatplotlib\u001b[39;00m \u001b[39mas\u001b[39;00m \u001b[39mplt\u001b[39;00m\n\u001b[1;32m----> <a href='vscode-notebook-cell:/e%3A/Advanced%20Python/Session%207%20Numpy%20Array/Numpyarrays.ipynb#Y165sZmlsZQ%3D%3D?line=1'>2</a>\u001b[0m plt\u001b[39m.\u001b[39;49mfigure(figsize\u001b[39m=\u001b[39m(\u001b[39m16\u001b[39m,\u001b[39m8\u001b[39m))\n\u001b[0;32m      <a href='vscode-notebook-cell:/e%3A/Advanced%20Python/Session%207%20Numpy%20Array/Numpyarrays.ipynb#Y165sZmlsZQ%3D%3D?line=2'>3</a>\u001b[0m plt\u001b[39m.\u001b[39mplot(x,y)\n\u001b[0;32m      <a href='vscode-notebook-cell:/e%3A/Advanced%20Python/Session%207%20Numpy%20Array/Numpyarrays.ipynb#Y165sZmlsZQ%3D%3D?line=3'>4</a>\u001b[0m plt\u001b[39m.\u001b[39mtitle(\u001b[39m'\u001b[39m\u001b[39mplot for y = x*sin(x)+x^2\u001b[39m\u001b[39m'\u001b[39m)\n",
      "File \u001b[1;32me:\\Advanced Python\\repository\\venv\\lib\\site-packages\\matplotlib\\_api\\__init__.py:226\u001b[0m, in \u001b[0;36mcaching_module_getattr.<locals>.__getattr__\u001b[1;34m(name)\u001b[0m\n\u001b[0;32m    224\u001b[0m \u001b[39mif\u001b[39;00m name \u001b[39min\u001b[39;00m props:\n\u001b[0;32m    225\u001b[0m     \u001b[39mreturn\u001b[39;00m props[name]\u001b[39m.\u001b[39m\u001b[39m__get__\u001b[39m(instance)\n\u001b[1;32m--> 226\u001b[0m \u001b[39mraise\u001b[39;00m \u001b[39mAttributeError\u001b[39;00m(\n\u001b[0;32m    227\u001b[0m     \u001b[39mf\u001b[39m\u001b[39m\"\u001b[39m\u001b[39mmodule \u001b[39m\u001b[39m{\u001b[39;00m\u001b[39mcls\u001b[39m\u001b[39m.\u001b[39m\u001b[39m__module__\u001b[39m\u001b[39m!r}\u001b[39;00m\u001b[39m has no attribute \u001b[39m\u001b[39m{\u001b[39;00mname\u001b[39m!r}\u001b[39;00m\u001b[39m\"\u001b[39m)\n",
      "\u001b[1;31mAttributeError\u001b[0m: module 'matplotlib' has no attribute 'figure'"
     ]
    }
   ],
   "source": [
    "import matplotlib as plt\n",
    "plt.figure(figsize=(16,8))\n",
    "plt.plot(x,y)\n",
    "plt.title('plot for y = x*sin(x)+x^2')\n",
    "plt.grid()\n",
    "plt.show()"
   ]
  },
  {
   "cell_type": "code",
   "execution_count": null,
   "metadata": {},
   "outputs": [],
   "source": []
  }
 ],
 "metadata": {
  "kernelspec": {
   "display_name": "venv",
   "language": "python",
   "name": "python3"
  },
  "language_info": {
   "codemirror_mode": {
    "name": "ipython",
    "version": 3
   },
   "file_extension": ".py",
   "mimetype": "text/x-python",
   "name": "python",
   "nbconvert_exporter": "python",
   "pygments_lexer": "ipython3",
   "version": "3.10.4"
  }
 },
 "nbformat": 4,
 "nbformat_minor": 2
}
