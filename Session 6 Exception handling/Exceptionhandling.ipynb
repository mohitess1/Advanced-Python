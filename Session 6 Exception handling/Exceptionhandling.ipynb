{
 "cells": [
  {
   "cell_type": "markdown",
   "metadata": {},
   "source": [
    "## Exception Handling in Python\n",
    "\n",
    "syntax error - cannot be handled(you need to correct syntax)"
   ]
  },
  {
   "cell_type": "code",
   "execution_count": 1,
   "metadata": {},
   "outputs": [
    {
     "ename": "IndentationError",
     "evalue": "expected an indented block after 'if' statement on line 2 (1328683888.py, line 3)",
     "output_type": "error",
     "traceback": [
      "\u001b[1;36m  Cell \u001b[1;32mIn[1], line 3\u001b[1;36m\u001b[0m\n\u001b[1;33m    print('you are eligible to vote')\u001b[0m\n\u001b[1;37m    ^\u001b[0m\n\u001b[1;31mIndentationError\u001b[0m\u001b[1;31m:\u001b[0m expected an indented block after 'if' statement on line 2\n"
     ]
    }
   ],
   "source": [
    "age = 32\n",
    "if age>18:\n",
    "print('you are eligible to vote')"
   ]
  },
  {
   "cell_type": "code",
   "execution_count": null,
   "metadata": {},
   "outputs": [
    {
     "ename": "TypeError",
     "evalue": "'builtin_function_or_method' object is not subscriptable",
     "output_type": "error",
     "traceback": [
      "\u001b[1;31m---------------------------------------------------------------------------\u001b[0m",
      "\u001b[1;31mTypeError\u001b[0m                                 Traceback (most recent call last)",
      "\u001b[1;32me:\\Advanced Python\\Session 6 Exception handling\\Exceptionhandling.ipynb Cell 3\u001b[0m line \u001b[0;36m1\n\u001b[1;32m----> <a href='vscode-notebook-cell:/e%3A/Advanced%20Python/Session%206%20Exception%20handling/Exceptionhandling.ipynb#W1sZmlsZQ%3D%3D?line=0'>1</a>\u001b[0m \u001b[39mprint\u001b[39;49m[\u001b[39m'\u001b[39;49m\u001b[39msqurebracket\u001b[39;49m\u001b[39m'\u001b[39;49m]\n",
      "\u001b[1;31mTypeError\u001b[0m: 'builtin_function_or_method' object is not subscriptable"
     ]
    }
   ],
   "source": [
    "print['squrebracket']"
   ]
  },
  {
   "cell_type": "markdown",
   "metadata": {},
   "source": [
    "#### Exceptions in python"
   ]
  },
  {
   "cell_type": "code",
   "execution_count": null,
   "metadata": {},
   "outputs": [
    {
     "ename": "ZeroDivisionError",
     "evalue": "division by zero",
     "output_type": "error",
     "traceback": [
      "\u001b[1;31m---------------------------------------------------------------------------\u001b[0m",
      "\u001b[1;31mZeroDivisionError\u001b[0m                         Traceback (most recent call last)",
      "\u001b[1;32me:\\Advanced Python\\Session 6 Exception handling\\Exceptionhandling.ipynb Cell 5\u001b[0m line \u001b[0;36m3\n\u001b[0;32m      <a href='vscode-notebook-cell:/e%3A/Advanced%20Python/Session%206%20Exception%20handling/Exceptionhandling.ipynb#W3sZmlsZQ%3D%3D?line=0'>1</a>\u001b[0m a \u001b[39m=\u001b[39m \u001b[39m23\u001b[39m \n\u001b[0;32m      <a href='vscode-notebook-cell:/e%3A/Advanced%20Python/Session%206%20Exception%20handling/Exceptionhandling.ipynb#W3sZmlsZQ%3D%3D?line=1'>2</a>\u001b[0m b \u001b[39m=\u001b[39m \u001b[39m0\u001b[39m\n\u001b[1;32m----> <a href='vscode-notebook-cell:/e%3A/Advanced%20Python/Session%206%20Exception%20handling/Exceptionhandling.ipynb#W3sZmlsZQ%3D%3D?line=2'>3</a>\u001b[0m \u001b[39mprint\u001b[39m(a\u001b[39m/\u001b[39;49mb)\n",
      "\u001b[1;31mZeroDivisionError\u001b[0m: division by zero"
     ]
    }
   ],
   "source": [
    "a = 23 \n",
    "b = 0\n",
    "print(a/b)"
   ]
  },
  {
   "cell_type": "code",
   "execution_count": null,
   "metadata": {},
   "outputs": [
    {
     "ename": "TypeError",
     "evalue": "unsupported operand type(s) for /: 'str' and 'int'",
     "output_type": "error",
     "traceback": [
      "\u001b[1;31m---------------------------------------------------------------------------\u001b[0m",
      "\u001b[1;31mTypeError\u001b[0m                                 Traceback (most recent call last)",
      "\u001b[1;32me:\\Advanced Python\\Session 6 Exception handling\\Exceptionhandling.ipynb Cell 6\u001b[0m line \u001b[0;36m3\n\u001b[0;32m      <a href='vscode-notebook-cell:/e%3A/Advanced%20Python/Session%206%20Exception%20handling/Exceptionhandling.ipynb#W5sZmlsZQ%3D%3D?line=0'>1</a>\u001b[0m c \u001b[39m=\u001b[39m \u001b[39m'\u001b[39m\u001b[39msayali\u001b[39m\u001b[39m'\u001b[39m\n\u001b[0;32m      <a href='vscode-notebook-cell:/e%3A/Advanced%20Python/Session%206%20Exception%20handling/Exceptionhandling.ipynb#W5sZmlsZQ%3D%3D?line=1'>2</a>\u001b[0m d \u001b[39m=\u001b[39m \u001b[39m15\u001b[39m\n\u001b[1;32m----> <a href='vscode-notebook-cell:/e%3A/Advanced%20Python/Session%206%20Exception%20handling/Exceptionhandling.ipynb#W5sZmlsZQ%3D%3D?line=2'>3</a>\u001b[0m \u001b[39mprint\u001b[39m(c\u001b[39m/\u001b[39;49md)\n",
      "\u001b[1;31mTypeError\u001b[0m: unsupported operand type(s) for /: 'str' and 'int'"
     ]
    }
   ],
   "source": [
    "c = 'sayali'\n",
    "d = 15\n",
    "print(c/d)"
   ]
  },
  {
   "cell_type": "code",
   "execution_count": null,
   "metadata": {},
   "outputs": [
    {
     "ename": "ValueError",
     "evalue": "invalid literal for int() with base 10: 'a'",
     "output_type": "error",
     "traceback": [
      "\u001b[1;31m---------------------------------------------------------------------------\u001b[0m",
      "\u001b[1;31mValueError\u001b[0m                                Traceback (most recent call last)",
      "\u001b[1;32me:\\Advanced Python\\Session 6 Exception handling\\Exceptionhandling.ipynb Cell 7\u001b[0m line \u001b[0;36m1\n\u001b[1;32m----> <a href='vscode-notebook-cell:/e%3A/Advanced%20Python/Session%206%20Exception%20handling/Exceptionhandling.ipynb#W6sZmlsZQ%3D%3D?line=0'>1</a>\u001b[0m \u001b[39mint\u001b[39;49m(\u001b[39m'\u001b[39;49m\u001b[39ma\u001b[39;49m\u001b[39m'\u001b[39;49m)\n",
      "\u001b[1;31mValueError\u001b[0m: invalid literal for int() with base 10: 'a'"
     ]
    }
   ],
   "source": [
    "int('a')"
   ]
  },
  {
   "cell_type": "code",
   "execution_count": null,
   "metadata": {},
   "outputs": [
    {
     "ename": "ValueError",
     "evalue": "could not convert string to float: '$12.36'",
     "output_type": "error",
     "traceback": [
      "\u001b[1;31m---------------------------------------------------------------------------\u001b[0m",
      "\u001b[1;31mValueError\u001b[0m                                Traceback (most recent call last)",
      "\u001b[1;32me:\\Advanced Python\\Session 6 Exception handling\\Exceptionhandling.ipynb Cell 8\u001b[0m line \u001b[0;36m1\n\u001b[1;32m----> <a href='vscode-notebook-cell:/e%3A/Advanced%20Python/Session%206%20Exception%20handling/Exceptionhandling.ipynb#X10sZmlsZQ%3D%3D?line=0'>1</a>\u001b[0m \u001b[39mfloat\u001b[39;49m(\u001b[39m'\u001b[39;49m\u001b[39m$12.36\u001b[39;49m\u001b[39m'\u001b[39;49m)\n",
      "\u001b[1;31mValueError\u001b[0m: could not convert string to float: '$12.36'"
     ]
    }
   ],
   "source": [
    "float('$12.36')"
   ]
  },
  {
   "cell_type": "code",
   "execution_count": null,
   "metadata": {},
   "outputs": [
    {
     "data": {
      "text/plain": [
       "12.36"
      ]
     },
     "execution_count": 13,
     "metadata": {},
     "output_type": "execute_result"
    }
   ],
   "source": [
    "float(12.36)"
   ]
  },
  {
   "cell_type": "markdown",
   "metadata": {},
   "source": [
    "#### A simple function which devides two functions"
   ]
  },
  {
   "cell_type": "code",
   "execution_count": null,
   "metadata": {},
   "outputs": [],
   "source": [
    "def divide():\n",
    "    a = float(input('please enter numerator : '))\n",
    "    b = float(input('please enter denominatortor : '))\n",
    "    div = (a/b)\n",
    "    return div"
   ]
  },
  {
   "cell_type": "code",
   "execution_count": null,
   "metadata": {},
   "outputs": [
    {
     "ename": "ValueError",
     "evalue": "could not convert string to float: ''",
     "output_type": "error",
     "traceback": [
      "\u001b[1;31m---------------------------------------------------------------------------\u001b[0m",
      "\u001b[1;31mValueError\u001b[0m                                Traceback (most recent call last)",
      "\u001b[1;32me:\\Advanced Python\\Session 6 Exception handling\\Exceptionhandling.ipynb Cell 12\u001b[0m line \u001b[0;36m1\n\u001b[1;32m----> <a href='vscode-notebook-cell:/e%3A/Advanced%20Python/Session%206%20Exception%20handling/Exceptionhandling.ipynb#X16sZmlsZQ%3D%3D?line=0'>1</a>\u001b[0m divide()\n",
      "\u001b[1;32me:\\Advanced Python\\Session 6 Exception handling\\Exceptionhandling.ipynb Cell 12\u001b[0m line \u001b[0;36m2\n\u001b[0;32m      <a href='vscode-notebook-cell:/e%3A/Advanced%20Python/Session%206%20Exception%20handling/Exceptionhandling.ipynb#X16sZmlsZQ%3D%3D?line=0'>1</a>\u001b[0m \u001b[39mdef\u001b[39;00m \u001b[39mdivide\u001b[39m():\n\u001b[1;32m----> <a href='vscode-notebook-cell:/e%3A/Advanced%20Python/Session%206%20Exception%20handling/Exceptionhandling.ipynb#X16sZmlsZQ%3D%3D?line=1'>2</a>\u001b[0m     a \u001b[39m=\u001b[39m \u001b[39mfloat\u001b[39;49m(\u001b[39minput\u001b[39;49m(\u001b[39m'\u001b[39;49m\u001b[39mplease enter numerator : \u001b[39;49m\u001b[39m'\u001b[39;49m))\n\u001b[0;32m      <a href='vscode-notebook-cell:/e%3A/Advanced%20Python/Session%206%20Exception%20handling/Exceptionhandling.ipynb#X16sZmlsZQ%3D%3D?line=2'>3</a>\u001b[0m     b \u001b[39m=\u001b[39m \u001b[39mfloat\u001b[39m(\u001b[39minput\u001b[39m(\u001b[39m'\u001b[39m\u001b[39mplease enter denominatortor : \u001b[39m\u001b[39m'\u001b[39m))\n\u001b[0;32m      <a href='vscode-notebook-cell:/e%3A/Advanced%20Python/Session%206%20Exception%20handling/Exceptionhandling.ipynb#X16sZmlsZQ%3D%3D?line=3'>4</a>\u001b[0m     div \u001b[39m=\u001b[39m (a\u001b[39m/\u001b[39mb)\n",
      "\u001b[1;31mValueError\u001b[0m: could not convert string to float: ''"
     ]
    }
   ],
   "source": [
    "divide()"
   ]
  },
  {
   "cell_type": "code",
   "execution_count": null,
   "metadata": {},
   "outputs": [
    {
     "ename": "ZeroDivisionError",
     "evalue": "float division by zero",
     "output_type": "error",
     "traceback": [
      "\u001b[1;31m---------------------------------------------------------------------------\u001b[0m",
      "\u001b[1;31mZeroDivisionError\u001b[0m                         Traceback (most recent call last)",
      "\u001b[1;32me:\\Advanced Python\\Session 6 Exception handling\\Exceptionhandling.ipynb Cell 13\u001b[0m line \u001b[0;36m1\n\u001b[1;32m----> <a href='vscode-notebook-cell:/e%3A/Advanced%20Python/Session%206%20Exception%20handling/Exceptionhandling.ipynb#X15sZmlsZQ%3D%3D?line=0'>1</a>\u001b[0m divide()\n",
      "\u001b[1;32me:\\Advanced Python\\Session 6 Exception handling\\Exceptionhandling.ipynb Cell 13\u001b[0m line \u001b[0;36m4\n\u001b[0;32m      <a href='vscode-notebook-cell:/e%3A/Advanced%20Python/Session%206%20Exception%20handling/Exceptionhandling.ipynb#X15sZmlsZQ%3D%3D?line=1'>2</a>\u001b[0m a \u001b[39m=\u001b[39m \u001b[39mfloat\u001b[39m(\u001b[39minput\u001b[39m(\u001b[39m'\u001b[39m\u001b[39mplease enter numerator : \u001b[39m\u001b[39m'\u001b[39m))\n\u001b[0;32m      <a href='vscode-notebook-cell:/e%3A/Advanced%20Python/Session%206%20Exception%20handling/Exceptionhandling.ipynb#X15sZmlsZQ%3D%3D?line=2'>3</a>\u001b[0m b \u001b[39m=\u001b[39m \u001b[39mfloat\u001b[39m(\u001b[39minput\u001b[39m(\u001b[39m'\u001b[39m\u001b[39mplease enter denominatortor : \u001b[39m\u001b[39m'\u001b[39m))\n\u001b[1;32m----> <a href='vscode-notebook-cell:/e%3A/Advanced%20Python/Session%206%20Exception%20handling/Exceptionhandling.ipynb#X15sZmlsZQ%3D%3D?line=3'>4</a>\u001b[0m div \u001b[39m=\u001b[39m (a\u001b[39m/\u001b[39;49mb)\n\u001b[0;32m      <a href='vscode-notebook-cell:/e%3A/Advanced%20Python/Session%206%20Exception%20handling/Exceptionhandling.ipynb#X15sZmlsZQ%3D%3D?line=4'>5</a>\u001b[0m \u001b[39mreturn\u001b[39;00m div\n",
      "\u001b[1;31mZeroDivisionError\u001b[0m: float division by zero"
     ]
    }
   ],
   "source": [
    "divide()\n"
   ]
  },
  {
   "cell_type": "code",
   "execution_count": null,
   "metadata": {},
   "outputs": [
    {
     "ename": "ValueError",
     "evalue": "could not convert string to float: '3+2'",
     "output_type": "error",
     "traceback": [
      "\u001b[1;31m---------------------------------------------------------------------------\u001b[0m",
      "\u001b[1;31mValueError\u001b[0m                                Traceback (most recent call last)",
      "\u001b[1;32me:\\Advanced Python\\Session 6 Exception handling\\Exceptionhandling.ipynb Cell 14\u001b[0m line \u001b[0;36m1\n\u001b[1;32m----> <a href='vscode-notebook-cell:/e%3A/Advanced%20Python/Session%206%20Exception%20handling/Exceptionhandling.ipynb#X25sZmlsZQ%3D%3D?line=0'>1</a>\u001b[0m divide()\n\u001b[0;32m      <a href='vscode-notebook-cell:/e%3A/Advanced%20Python/Session%206%20Exception%20handling/Exceptionhandling.ipynb#X25sZmlsZQ%3D%3D?line=1'>2</a>\u001b[0m \u001b[39mprint\u001b[39m(\u001b[39m3\u001b[39m\u001b[39m+\u001b[39m\u001b[39m2\u001b[39m)\n",
      "\u001b[1;32me:\\Advanced Python\\Session 6 Exception handling\\Exceptionhandling.ipynb Cell 14\u001b[0m line \u001b[0;36m2\n\u001b[0;32m      <a href='vscode-notebook-cell:/e%3A/Advanced%20Python/Session%206%20Exception%20handling/Exceptionhandling.ipynb#X25sZmlsZQ%3D%3D?line=0'>1</a>\u001b[0m \u001b[39mdef\u001b[39;00m \u001b[39mdivide\u001b[39m():\n\u001b[1;32m----> <a href='vscode-notebook-cell:/e%3A/Advanced%20Python/Session%206%20Exception%20handling/Exceptionhandling.ipynb#X25sZmlsZQ%3D%3D?line=1'>2</a>\u001b[0m     a \u001b[39m=\u001b[39m \u001b[39mfloat\u001b[39;49m(\u001b[39minput\u001b[39;49m(\u001b[39m'\u001b[39;49m\u001b[39mplease enter numerator : \u001b[39;49m\u001b[39m'\u001b[39;49m))\n\u001b[0;32m      <a href='vscode-notebook-cell:/e%3A/Advanced%20Python/Session%206%20Exception%20handling/Exceptionhandling.ipynb#X25sZmlsZQ%3D%3D?line=2'>3</a>\u001b[0m     b \u001b[39m=\u001b[39m \u001b[39mfloat\u001b[39m(\u001b[39minput\u001b[39m(\u001b[39m'\u001b[39m\u001b[39mplease enter denominatortor : \u001b[39m\u001b[39m'\u001b[39m))\n\u001b[0;32m      <a href='vscode-notebook-cell:/e%3A/Advanced%20Python/Session%206%20Exception%20handling/Exceptionhandling.ipynb#X25sZmlsZQ%3D%3D?line=3'>4</a>\u001b[0m     div \u001b[39m=\u001b[39m (a\u001b[39m/\u001b[39mb)\n",
      "\u001b[1;31mValueError\u001b[0m: could not convert string to float: '3+2'"
     ]
    }
   ],
   "source": [
    "divide()\n",
    "print(3+2)"
   ]
  },
  {
   "cell_type": "code",
   "execution_count": null,
   "metadata": {},
   "outputs": [],
   "source": [
    "def divide_handled():\n",
    "    try:\n",
    "         a = float(input('please enter numerator : '))\n",
    "         b = float(input('please enter denominatortor : '))\n",
    "         div = (a/b)\n",
    "         return div\n",
    "    except Exception as e:\n",
    "         print(f'Exception occured : {e}')\n",
    "        \n",
    "   "
   ]
  },
  {
   "cell_type": "code",
   "execution_count": null,
   "metadata": {},
   "outputs": [
    {
     "name": "stdout",
     "output_type": "stream",
     "text": [
      "Exception occured : could not convert string to float: ''\n"
     ]
    }
   ],
   "source": [
    "divide_handled()"
   ]
  },
  {
   "cell_type": "code",
   "execution_count": null,
   "metadata": {},
   "outputs": [
    {
     "data": {
      "text/plain": [
       "2.0"
      ]
     },
     "execution_count": 18,
     "metadata": {},
     "output_type": "execute_result"
    }
   ],
   "source": [
    "divide_handled()"
   ]
  },
  {
   "cell_type": "code",
   "execution_count": null,
   "metadata": {},
   "outputs": [
    {
     "name": "stdout",
     "output_type": "stream",
     "text": [
      "Exception occured : float division by zero\n",
      "28\n"
     ]
    }
   ],
   "source": [
    "divide_handled()\n",
    "print(14*2)"
   ]
  },
  {
   "cell_type": "code",
   "execution_count": null,
   "metadata": {},
   "outputs": [
    {
     "name": "stdout",
     "output_type": "stream",
     "text": [
      "Exception occured : could not convert string to float: 'a'\n"
     ]
    }
   ],
   "source": [
    "divide_handled()"
   ]
  },
  {
   "cell_type": "code",
   "execution_count": null,
   "metadata": {},
   "outputs": [],
   "source": [
    "def div_hand2():\n",
    "    try:\n",
    "        a = float(input('enter numerator : '))\n",
    "        b = float(input('enter deominator : '))\n",
    "        div = (a/b)\n",
    "        return div\n",
    "    except ZeroDivisionError:\n",
    "        print('cannot divide by zero,please enter any other number in denominator')\n",
    "    except ValueError:\n",
    "        print('do not enter alphabets instead of numbers ')"
   ]
  },
  {
   "cell_type": "code",
   "execution_count": null,
   "metadata": {},
   "outputs": [
    {
     "data": {
      "text/plain": [
       "25.0"
      ]
     },
     "execution_count": 4,
     "metadata": {},
     "output_type": "execute_result"
    }
   ],
   "source": [
    "div_hand2()"
   ]
  },
  {
   "cell_type": "code",
   "execution_count": null,
   "metadata": {},
   "outputs": [
    {
     "name": "stdout",
     "output_type": "stream",
     "text": [
      "cannot divide by zero,please enter any other number in denominator\n"
     ]
    }
   ],
   "source": [
    "div_hand2()"
   ]
  },
  {
   "cell_type": "code",
   "execution_count": null,
   "metadata": {},
   "outputs": [
    {
     "name": "stdout",
     "output_type": "stream",
     "text": [
      "do not enter alphabets instead of numbers \n"
     ]
    }
   ],
   "source": [
    "div_hand2()"
   ]
  },
  {
   "cell_type": "markdown",
   "metadata": {},
   "source": [
    "#### Handling input exception"
   ]
  },
  {
   "cell_type": "code",
   "execution_count": null,
   "metadata": {},
   "outputs": [
    {
     "name": "stdout",
     "output_type": "stream",
     "text": [
      "invalid age -9 was entered\n"
     ]
    }
   ],
   "source": [
    "try:\n",
    "    age = int(input('please enter your age : '))\n",
    "    if age<0 or age>100:\n",
    "        raise ValueError('Age should be between 0 to 100')\n",
    "    print(f'age of {age} is valid age')\n",
    "except:\n",
    "    print(f'invalid age {age} was entered')"
   ]
  },
  {
   "cell_type": "markdown",
   "metadata": {},
   "source": [
    "#### Try Except Finally Block"
   ]
  },
  {
   "cell_type": "code",
   "execution_count": null,
   "metadata": {},
   "outputs": [],
   "source": [
    "from math import sqrt"
   ]
  },
  {
   "cell_type": "code",
   "execution_count": null,
   "metadata": {},
   "outputs": [
    {
     "ename": "ValueError",
     "evalue": "math domain error",
     "output_type": "error",
     "traceback": [
      "\u001b[1;31m---------------------------------------------------------------------------\u001b[0m",
      "\u001b[1;31mValueError\u001b[0m                                Traceback (most recent call last)",
      "\u001b[1;32me:\\Advanced Python\\Session 6 Exception handling\\Exceptionhandling.ipynb Cell 28\u001b[0m line \u001b[0;36m1\n\u001b[1;32m----> <a href='vscode-notebook-cell:/e%3A/Advanced%20Python/Session%206%20Exception%20handling/Exceptionhandling.ipynb#X36sZmlsZQ%3D%3D?line=0'>1</a>\u001b[0m sqrt(\u001b[39m-\u001b[39;49m\u001b[39m6\u001b[39;49m)\n",
      "\u001b[1;31mValueError\u001b[0m: math domain error"
     ]
    }
   ],
   "source": [
    "sqrt(-6)"
   ]
  },
  {
   "cell_type": "code",
   "execution_count": null,
   "metadata": {},
   "outputs": [
    {
     "data": {
      "text/plain": [
       "2.449489742783178"
      ]
     },
     "execution_count": 11,
     "metadata": {},
     "output_type": "execute_result"
    }
   ],
   "source": [
    "sqrt(6)"
   ]
  },
  {
   "cell_type": "code",
   "execution_count": 2,
   "metadata": {},
   "outputs": [],
   "source": [
    "def sqr_root(n):\n",
    "    try:\n",
    "        from math import sqrt\n",
    "        s = sqrt(n)\n",
    "        print(f'The square root of given number {n} is {s:.4f}')\n",
    "    except Exception as e:\n",
    "        print(f'Exception occured : {e}')\n",
    "    finally:\n",
    "        print('This Block is Executed finally')"
   ]
  },
  {
   "cell_type": "code",
   "execution_count": 4,
   "metadata": {},
   "outputs": [
    {
     "name": "stdout",
     "output_type": "stream",
     "text": [
      "Exception occured : math domain error\n",
      "This Block is Executed finally\n"
     ]
    }
   ],
   "source": [
    "sqr_root(-98)"
   ]
  },
  {
   "cell_type": "code",
   "execution_count": 5,
   "metadata": {},
   "outputs": [
    {
     "name": "stdout",
     "output_type": "stream",
     "text": [
      "Exception occured : math domain error\n",
      "This Block is Executed finally\n"
     ]
    }
   ],
   "source": [
    "sqr_root(-23)"
   ]
  },
  {
   "cell_type": "markdown",
   "metadata": {},
   "source": [
    "#### Quadratic Equation Solution\n",
    "\n",
    "ax^2 + bx + c"
   ]
  },
  {
   "cell_type": "code",
   "execution_count": 7,
   "metadata": {},
   "outputs": [],
   "source": [
    "def Quadratic_roots(a,b,c):\n",
    "    try:\n",
    "        from math import sqrt\n",
    "        d = b**2 - 4*a*c\n",
    "        x1 = (-b+sqrt(d))/(2*a)\n",
    "        x2 = (-b-sqrt(d))/(2*a)\n",
    "        print(f'Real roots of equation occured {x1:.4f} and {x2:.4f}')\n",
    "        return x1,x2\n",
    "    except Exception  as e:\n",
    "        print(f'Exception occured {e}')\n",
    "    finally:\n",
    "        print('Thanks for using this function')\n"
   ]
  },
  {
   "cell_type": "markdown",
   "metadata": {},
   "source": [
    "x^2 + 5x + 6 =0\n",
    "\n",
    "a = 1\n",
    "b = -5\n",
    "c = 6"
   ]
  },
  {
   "cell_type": "code",
   "execution_count": 9,
   "metadata": {},
   "outputs": [
    {
     "name": "stdout",
     "output_type": "stream",
     "text": [
      "Real roots of equation occured 3.0000 and 2.0000\n",
      "Thanks for using this function\n"
     ]
    },
    {
     "data": {
      "text/plain": [
       "(3.0, 2.0)"
      ]
     },
     "execution_count": 9,
     "metadata": {},
     "output_type": "execute_result"
    }
   ],
   "source": [
    "Quadratic_roots(1,-5,6)"
   ]
  },
  {
   "cell_type": "markdown",
   "metadata": {},
   "source": [
    "x^2 + x =+ 1 = 0\n",
    "\n",
    "a = 1\n",
    "b = 1\n",
    "c = 1"
   ]
  },
  {
   "cell_type": "code",
   "execution_count": 10,
   "metadata": {},
   "outputs": [
    {
     "name": "stdout",
     "output_type": "stream",
     "text": [
      "Exception occured math domain error\n",
      "Thanks for using this function\n"
     ]
    }
   ],
   "source": [
    "Quadratic_roots(1,1,1)"
   ]
  },
  {
   "cell_type": "code",
   "execution_count": 11,
   "metadata": {},
   "outputs": [
    {
     "data": {
      "text/plain": [
       "-3"
      ]
     },
     "execution_count": 11,
     "metadata": {},
     "output_type": "execute_result"
    }
   ],
   "source": [
    "1**1 - 4*1*1"
   ]
  }
 ],
 "metadata": {
  "kernelspec": {
   "display_name": "venv",
   "language": "python",
   "name": "python3"
  },
  "language_info": {
   "codemirror_mode": {
    "name": "ipython",
    "version": 3
   },
   "file_extension": ".py",
   "mimetype": "text/x-python",
   "name": "python",
   "nbconvert_exporter": "python",
   "pygments_lexer": "ipython3",
   "version": "3.10.4"
  },
  "orig_nbformat": 4
 },
 "nbformat": 4,
 "nbformat_minor": 2
}
