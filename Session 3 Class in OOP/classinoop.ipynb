{
 "cells": [
  {
   "cell_type": "markdown",
   "metadata": {},
   "source": [
    "### Class in OOP (Object Oriented Programming)"
   ]
  },
  {
   "cell_type": "code",
   "execution_count": 33,
   "metadata": {},
   "outputs": [
    {
     "name": "stdout",
     "output_type": "stream",
     "text": [
      "<class 'int'>\n"
     ]
    }
   ],
   "source": [
    "age = 24\n",
    "print(type(age))"
   ]
  },
  {
   "cell_type": "code",
   "execution_count": 34,
   "metadata": {},
   "outputs": [
    {
     "name": "stdout",
     "output_type": "stream",
     "text": [
      "<class 'float'>\n"
     ]
    }
   ],
   "source": [
    "h = 5.6\n",
    "print(type(h))"
   ]
  },
  {
   "cell_type": "code",
   "execution_count": 35,
   "metadata": {},
   "outputs": [
    {
     "name": "stdout",
     "output_type": "stream",
     "text": [
      "<class 'list'>\n"
     ]
    }
   ],
   "source": [
    "s = [12,53,69,87,256,12]\n",
    "print(type(s))"
   ]
  },
  {
   "cell_type": "code",
   "execution_count": 36,
   "metadata": {},
   "outputs": [],
   "source": [
    "s.append(100)"
   ]
  },
  {
   "cell_type": "code",
   "execution_count": 37,
   "metadata": {},
   "outputs": [
    {
     "data": {
      "text/plain": [
       "[12, 53, 69, 87, 256, 12, 100]"
      ]
     },
     "execution_count": 37,
     "metadata": {},
     "output_type": "execute_result"
    }
   ],
   "source": [
    "s"
   ]
  },
  {
   "cell_type": "markdown",
   "metadata": {},
   "source": [
    "#### Creating custom class person"
   ]
  },
  {
   "cell_type": "code",
   "execution_count": 38,
   "metadata": {},
   "outputs": [],
   "source": [
    "class person:\n",
    "    #constructor function- define attributes of function\n",
    "    def __init__(self,Name,Age,Gender,occupation):\n",
    "        self.Name = Name\n",
    "        self.Age = Age\n",
    "        self.Gender = Gender\n",
    "        self.occupation = occupation\n",
    "\n",
    "#user define function\n",
    "    def talk(self):\n",
    "        print(f'Hii there my Name is {self.Name}')\n",
    "        print(f'my age is {self.Age}')\n",
    "        print(f'i am a {self.Gender}')\n",
    "        print(f'i works as a {self.occupation}')\n",
    "\n"
   ]
  },
  {
   "cell_type": "code",
   "execution_count": 39,
   "metadata": {},
   "outputs": [],
   "source": [
    "p1 = person(Name ='Sayali', Age=23, Gender='Female', occupation ='Data Scintist')"
   ]
  },
  {
   "cell_type": "code",
   "execution_count": 40,
   "metadata": {},
   "outputs": [
    {
     "name": "stdout",
     "output_type": "stream",
     "text": [
      "<class '__main__.person'>\n"
     ]
    }
   ],
   "source": [
    "print(type(p1))"
   ]
  },
  {
   "cell_type": "code",
   "execution_count": 41,
   "metadata": {},
   "outputs": [
    {
     "data": {
      "text/plain": [
       "'Data Scintist'"
      ]
     },
     "execution_count": 41,
     "metadata": {},
     "output_type": "execute_result"
    }
   ],
   "source": [
    "p1.occupation"
   ]
  },
  {
   "cell_type": "code",
   "execution_count": 42,
   "metadata": {},
   "outputs": [
    {
     "data": {
      "text/plain": [
       "'Sayali'"
      ]
     },
     "execution_count": 42,
     "metadata": {},
     "output_type": "execute_result"
    }
   ],
   "source": [
    "p1.Name"
   ]
  },
  {
   "cell_type": "code",
   "execution_count": 43,
   "metadata": {},
   "outputs": [
    {
     "name": "stdout",
     "output_type": "stream",
     "text": [
      "Hii there my Name is Sayali\n",
      "my age is 23\n",
      "i am a Female\n",
      "i works as a Data Scintist\n"
     ]
    }
   ],
   "source": [
    "p1.talk()"
   ]
  },
  {
   "cell_type": "code",
   "execution_count": 44,
   "metadata": {},
   "outputs": [],
   "source": [
    "p2 = person(Name ='Sayali Mohite', Age=23, Gender='Female', occupation ='Data Analyst')"
   ]
  },
  {
   "cell_type": "code",
   "execution_count": 45,
   "metadata": {},
   "outputs": [
    {
     "data": {
      "text/plain": [
       "'Data Analyst'"
      ]
     },
     "execution_count": 45,
     "metadata": {},
     "output_type": "execute_result"
    }
   ],
   "source": [
    "p2.occupation"
   ]
  },
  {
   "cell_type": "code",
   "execution_count": 46,
   "metadata": {},
   "outputs": [
    {
     "data": {
      "text/plain": [
       "'Sayali Mohite'"
      ]
     },
     "execution_count": 46,
     "metadata": {},
     "output_type": "execute_result"
    }
   ],
   "source": [
    "p2.Name"
   ]
  },
  {
   "cell_type": "code",
   "execution_count": 47,
   "metadata": {},
   "outputs": [
    {
     "data": {
      "text/plain": [
       "'Female'"
      ]
     },
     "execution_count": 47,
     "metadata": {},
     "output_type": "execute_result"
    }
   ],
   "source": [
    "p2.Gender"
   ]
  },
  {
   "cell_type": "code",
   "execution_count": 48,
   "metadata": {},
   "outputs": [
    {
     "name": "stdout",
     "output_type": "stream",
     "text": [
      "Hii there my Name is Sayali Mohite\n",
      "my age is 23\n",
      "i am a Female\n",
      "i works as a Data Analyst\n"
     ]
    }
   ],
   "source": [
    "p2.talk()"
   ]
  },
  {
   "cell_type": "markdown",
   "metadata": {},
   "source": [
    "#### Create a class for Bank Account"
   ]
  },
  {
   "cell_type": "code",
   "execution_count": 49,
   "metadata": {},
   "outputs": [],
   "source": [
    "class Account:\n",
    "\n",
    "    #Add init function\n",
    "    def __init__(self,Acc_no,Name,Bal=0):\n",
    "        self.Acc_no = Acc_no\n",
    "        self.Name = Name\n",
    "        self.Bal = Bal\n",
    "\n",
    "    # Function for Depositing Money\n",
    "    def deposit(self,amt):\n",
    "        self.Bal = self.Bal + amt\n",
    "        print(f'The Balance of {amt} INR deposited to your Bank Account number : {self.Acc_no}')\n",
    "        print(f'The current balance is {self.Bal} INR')\n",
    "\n",
    "    # Function for Withdrow money\n",
    "    def withdrow(self,amt):\n",
    "        if self.Bal>= amt:\n",
    "           self.Bal = self.Bal - amt\n",
    "           print(f'The Balance of {amt} INR withdrow from your Bank Account number : {self.Acc_no}')\n",
    "           print(f'The current balance is {self.Bal} INR')\n",
    "        else:\n",
    "            print(f'Insuficient Balance . The current balance in your Bank account no  is {self.Bal} INR')\n",
    "\n",
    "    \n",
    "   # Function to transfer money\n",
    "    def transfer(self, amt, ac2):\n",
    "        if self.Bal >= amt:\n",
    "            self.Bal = self.Bal - amt\n",
    "            ac2.Bal = ac2.Bal + amt\n",
    "            print(f'Amount of {amt} INR Transferred to account number : {ac2.ac_no} from your account : {self.Acc_no}')\n",
    "            print(f'Current Balance : {self.Bal} INR')\n",
    "        else:\n",
    "            print(f'Insufficient balance in account {self.Acc_no}. Current balance in your account is {self.Bal} INR')   \n",
    "       \n"
   ]
  },
  {
   "cell_type": "code",
   "execution_count": 50,
   "metadata": {},
   "outputs": [],
   "source": [
    "a1 = Account(Acc_no = 2324, Name = 'Sayali mohite', Bal= 500000)"
   ]
  },
  {
   "cell_type": "code",
   "execution_count": 51,
   "metadata": {},
   "outputs": [
    {
     "name": "stdout",
     "output_type": "stream",
     "text": [
      "<class '__main__.Account'>\n"
     ]
    }
   ],
   "source": [
    "print(type(a1))"
   ]
  },
  {
   "cell_type": "code",
   "execution_count": 52,
   "metadata": {},
   "outputs": [
    {
     "data": {
      "text/plain": [
       "2324"
      ]
     },
     "execution_count": 52,
     "metadata": {},
     "output_type": "execute_result"
    }
   ],
   "source": [
    "a1.Acc_no"
   ]
  },
  {
   "cell_type": "code",
   "execution_count": 53,
   "metadata": {},
   "outputs": [
    {
     "data": {
      "text/plain": [
       "500000"
      ]
     },
     "execution_count": 53,
     "metadata": {},
     "output_type": "execute_result"
    }
   ],
   "source": [
    "a1.Bal"
   ]
  },
  {
   "cell_type": "code",
   "execution_count": 54,
   "metadata": {},
   "outputs": [
    {
     "name": "stdout",
     "output_type": "stream",
     "text": [
      "The Balance of 100000 INR deposited to your Bank Account number : 2324\n",
      "The current balance is 600000 INR\n"
     ]
    }
   ],
   "source": [
    "a1.deposit(100000)"
   ]
  },
  {
   "cell_type": "code",
   "execution_count": 55,
   "metadata": {},
   "outputs": [
    {
     "data": {
      "text/plain": [
       "600000"
      ]
     },
     "execution_count": 55,
     "metadata": {},
     "output_type": "execute_result"
    }
   ],
   "source": [
    "a1.Bal"
   ]
  },
  {
   "cell_type": "code",
   "execution_count": 56,
   "metadata": {},
   "outputs": [
    {
     "name": "stdout",
     "output_type": "stream",
     "text": [
      "The Balance of 50000 INR withdrow from your Bank Account number : 2324\n",
      "The current balance is 550000 INR\n"
     ]
    }
   ],
   "source": [
    "a1.withdrow(50000)"
   ]
  },
  {
   "cell_type": "code",
   "execution_count": 57,
   "metadata": {},
   "outputs": [
    {
     "data": {
      "text/plain": [
       "550000"
      ]
     },
     "execution_count": 57,
     "metadata": {},
     "output_type": "execute_result"
    }
   ],
   "source": [
    "a1.Bal"
   ]
  },
  {
   "cell_type": "code",
   "execution_count": 58,
   "metadata": {},
   "outputs": [
    {
     "name": "stdout",
     "output_type": "stream",
     "text": [
      "Insuficient Balance . The current balance in your Bank account no  is 550000 INR\n"
     ]
    }
   ],
   "source": [
    "a1.withdrow(600000)"
   ]
  },
  {
   "cell_type": "code",
   "execution_count": 59,
   "metadata": {},
   "outputs": [],
   "source": [
    "a2 = Account(Acc_no = 201, Name ='ram rajan')"
   ]
  },
  {
   "cell_type": "code",
   "execution_count": 60,
   "metadata": {},
   "outputs": [
    {
     "data": {
      "text/plain": [
       "'ram rajan'"
      ]
     },
     "execution_count": 60,
     "metadata": {},
     "output_type": "execute_result"
    }
   ],
   "source": [
    "a2.Name"
   ]
  },
  {
   "cell_type": "code",
   "execution_count": 61,
   "metadata": {},
   "outputs": [
    {
     "data": {
      "text/plain": [
       "201"
      ]
     },
     "execution_count": 61,
     "metadata": {},
     "output_type": "execute_result"
    }
   ],
   "source": [
    "a2.Acc_no"
   ]
  },
  {
   "cell_type": "code",
   "execution_count": 62,
   "metadata": {},
   "outputs": [
    {
     "data": {
      "text/plain": [
       "0"
      ]
     },
     "execution_count": 62,
     "metadata": {},
     "output_type": "execute_result"
    }
   ],
   "source": [
    "a2.Bal"
   ]
  },
  {
   "cell_type": "markdown",
   "metadata": {},
   "source": [
    "##### Transfering money from acc1 to acc2"
   ]
  },
  {
   "cell_type": "code",
   "execution_count": 63,
   "metadata": {},
   "outputs": [
    {
     "data": {
      "text/plain": [
       "550000"
      ]
     },
     "execution_count": 63,
     "metadata": {},
     "output_type": "execute_result"
    }
   ],
   "source": [
    "a1.Bal"
   ]
  },
  {
   "cell_type": "code",
   "execution_count": 64,
   "metadata": {},
   "outputs": [
    {
     "ename": "AttributeError",
     "evalue": "'Account' object has no attribute 'ac_no'",
     "output_type": "error",
     "traceback": [
      "\u001b[1;31m---------------------------------------------------------------------------\u001b[0m",
      "\u001b[1;31mAttributeError\u001b[0m                            Traceback (most recent call last)",
      "\u001b[1;32me:\\Advanced Python\\Session 3 Class in OOP\\classinoop.ipynb Cell 36\u001b[0m line \u001b[0;36m1\n\u001b[1;32m----> <a href='vscode-notebook-cell:/e%3A/Advanced%20Python/Session%203%20Class%20in%20OOP/classinoop.ipynb#X50sZmlsZQ%3D%3D?line=0'>1</a>\u001b[0m a1\u001b[39m.\u001b[39;49mtransfer(amt\u001b[39m=\u001b[39;49m\u001b[39m100\u001b[39;49m,ac2\u001b[39m=\u001b[39;49ma2)\n",
      "\u001b[1;32me:\\Advanced Python\\Session 3 Class in OOP\\classinoop.ipynb Cell 36\u001b[0m line \u001b[0;36m3\n\u001b[0;32m     <a href='vscode-notebook-cell:/e%3A/Advanced%20Python/Session%203%20Class%20in%20OOP/classinoop.ipynb#X50sZmlsZQ%3D%3D?line=27'>28</a>\u001b[0m     \u001b[39mself\u001b[39m\u001b[39m.\u001b[39mBal \u001b[39m=\u001b[39m \u001b[39mself\u001b[39m\u001b[39m.\u001b[39mBal \u001b[39m-\u001b[39m amt\n\u001b[0;32m     <a href='vscode-notebook-cell:/e%3A/Advanced%20Python/Session%203%20Class%20in%20OOP/classinoop.ipynb#X50sZmlsZQ%3D%3D?line=28'>29</a>\u001b[0m     ac2\u001b[39m.\u001b[39mBal \u001b[39m=\u001b[39m ac2\u001b[39m.\u001b[39mBal \u001b[39m+\u001b[39m amt\n\u001b[1;32m---> <a href='vscode-notebook-cell:/e%3A/Advanced%20Python/Session%203%20Class%20in%20OOP/classinoop.ipynb#X50sZmlsZQ%3D%3D?line=29'>30</a>\u001b[0m     \u001b[39mprint\u001b[39m(\u001b[39mf\u001b[39m\u001b[39m'\u001b[39m\u001b[39mAmount of \u001b[39m\u001b[39m{\u001b[39;00mamt\u001b[39m}\u001b[39;00m\u001b[39m INR Transferred to account number : \u001b[39m\u001b[39m{\u001b[39;00mac2\u001b[39m.\u001b[39mac_no\u001b[39m}\u001b[39;00m\u001b[39m from your account : \u001b[39m\u001b[39m{\u001b[39;00m\u001b[39mself\u001b[39m\u001b[39m.\u001b[39mAcc_no\u001b[39m}\u001b[39;00m\u001b[39m'\u001b[39m)\n\u001b[0;32m     <a href='vscode-notebook-cell:/e%3A/Advanced%20Python/Session%203%20Class%20in%20OOP/classinoop.ipynb#X50sZmlsZQ%3D%3D?line=30'>31</a>\u001b[0m     \u001b[39mprint\u001b[39m(\u001b[39mf\u001b[39m\u001b[39m'\u001b[39m\u001b[39mCurrent Balance : \u001b[39m\u001b[39m{\u001b[39;00m\u001b[39mself\u001b[39m\u001b[39m.\u001b[39mBal\u001b[39m}\u001b[39;00m\u001b[39m INR\u001b[39m\u001b[39m'\u001b[39m)\n\u001b[0;32m     <a href='vscode-notebook-cell:/e%3A/Advanced%20Python/Session%203%20Class%20in%20OOP/classinoop.ipynb#X50sZmlsZQ%3D%3D?line=31'>32</a>\u001b[0m \u001b[39melse\u001b[39;00m:\n",
      "\u001b[1;31mAttributeError\u001b[0m: 'Account' object has no attribute 'ac_no'"
     ]
    }
   ],
   "source": [
    "a1.transfer(amt=100,ac2=a2)"
   ]
  },
  {
   "cell_type": "code",
   "execution_count": null,
   "metadata": {},
   "outputs": [
    {
     "data": {
      "text/plain": [
       "200"
      ]
     },
     "execution_count": 74,
     "metadata": {},
     "output_type": "execute_result"
    }
   ],
   "source": [
    "a2.Bal"
   ]
  },
  {
   "cell_type": "code",
   "execution_count": null,
   "metadata": {},
   "outputs": [
    {
     "ename": "AttributeError",
     "evalue": "'Account' object has no attribute 'acc_no'",
     "output_type": "error",
     "traceback": [
      "\u001b[1;31m---------------------------------------------------------------------------\u001b[0m",
      "\u001b[1;31mAttributeError\u001b[0m                            Traceback (most recent call last)",
      "\u001b[1;32me:\\Advanced Python\\Session 3 Class in OOP\\classinoop.ipynb Cell 38\u001b[0m line \u001b[0;36m1\n\u001b[1;32m----> <a href='vscode-notebook-cell:/e%3A/Advanced%20Python/Session%203%20Class%20in%20OOP/classinoop.ipynb#X53sZmlsZQ%3D%3D?line=0'>1</a>\u001b[0m a1\u001b[39m.\u001b[39;49mtransfer(amt\u001b[39m=\u001b[39;49m\u001b[39m25000\u001b[39;49m,ac2\u001b[39m=\u001b[39;49ma2)\n",
      "\u001b[1;32me:\\Advanced Python\\Session 3 Class in OOP\\classinoop.ipynb Cell 38\u001b[0m line \u001b[0;36m2\n\u001b[0;32m     <a href='vscode-notebook-cell:/e%3A/Advanced%20Python/Session%203%20Class%20in%20OOP/classinoop.ipynb#X53sZmlsZQ%3D%3D?line=26'>27</a>\u001b[0m    \u001b[39mself\u001b[39m\u001b[39m.\u001b[39mBal \u001b[39m=\u001b[39m \u001b[39mself\u001b[39m\u001b[39m.\u001b[39mBal \u001b[39m-\u001b[39m amt\n\u001b[0;32m     <a href='vscode-notebook-cell:/e%3A/Advanced%20Python/Session%203%20Class%20in%20OOP/classinoop.ipynb#X53sZmlsZQ%3D%3D?line=27'>28</a>\u001b[0m    ac2\u001b[39m.\u001b[39mBal \u001b[39m=\u001b[39m ac2\u001b[39m.\u001b[39mBal \u001b[39m+\u001b[39m amt\n\u001b[1;32m---> <a href='vscode-notebook-cell:/e%3A/Advanced%20Python/Session%203%20Class%20in%20OOP/classinoop.ipynb#X53sZmlsZQ%3D%3D?line=28'>29</a>\u001b[0m    \u001b[39mprint\u001b[39m(\u001b[39mf\u001b[39m\u001b[39m'\u001b[39m\u001b[39mAmount of \u001b[39m\u001b[39m{\u001b[39;00mamt\u001b[39m}\u001b[39;00m\u001b[39m INR transfred to Account no : \u001b[39m\u001b[39m{\u001b[39;00mac2\u001b[39m.\u001b[39macc_no\u001b[39m}\u001b[39;00m\u001b[39m from your Account \u001b[39m\u001b[39m{\u001b[39;00m\u001b[39mself\u001b[39m\u001b[39m.\u001b[39mAcc_no\u001b[39m}\u001b[39;00m\u001b[39m'\u001b[39m)\n\u001b[0;32m     <a href='vscode-notebook-cell:/e%3A/Advanced%20Python/Session%203%20Class%20in%20OOP/classinoop.ipynb#X53sZmlsZQ%3D%3D?line=29'>30</a>\u001b[0m    \u001b[39mprint\u001b[39m(\u001b[39mf\u001b[39m\u001b[39m'\u001b[39m\u001b[39mCurrent Balance : \u001b[39m\u001b[39m{\u001b[39;00m\u001b[39mself\u001b[39m\u001b[39m.\u001b[39mBal\u001b[39m}\u001b[39;00m\u001b[39m'\u001b[39m)\n\u001b[0;32m     <a href='vscode-notebook-cell:/e%3A/Advanced%20Python/Session%203%20Class%20in%20OOP/classinoop.ipynb#X53sZmlsZQ%3D%3D?line=30'>31</a>\u001b[0m \u001b[39melse\u001b[39;00m:\n",
      "\u001b[1;31mAttributeError\u001b[0m: 'Account' object has no attribute 'acc_no'"
     ]
    }
   ],
   "source": [
    "a1.transfer(amt=25000,ac2=a2)"
   ]
  },
  {
   "cell_type": "code",
   "execution_count": null,
   "metadata": {},
   "outputs": [
    {
     "data": {
      "text/plain": [
       "200"
      ]
     },
     "execution_count": 75,
     "metadata": {},
     "output_type": "execute_result"
    }
   ],
   "source": [
    "a2.Bal"
   ]
  },
  {
   "cell_type": "code",
   "execution_count": null,
   "metadata": {},
   "outputs": [
    {
     "ename": "AttributeError",
     "evalue": "'Account' object has no attribute 'bal'",
     "output_type": "error",
     "traceback": [
      "\u001b[1;31m---------------------------------------------------------------------------\u001b[0m",
      "\u001b[1;31mAttributeError\u001b[0m                            Traceback (most recent call last)",
      "\u001b[1;32me:\\Advanced Python\\Session 3 Class in OOP\\classinoop.ipynb Cell 40\u001b[0m line \u001b[0;36m1\n\u001b[1;32m----> <a href='vscode-notebook-cell:/e%3A/Advanced%20Python/Session%203%20Class%20in%20OOP/classinoop.ipynb#X54sZmlsZQ%3D%3D?line=0'>1</a>\u001b[0m a1\u001b[39m.\u001b[39;49mbal\n",
      "\u001b[1;31mAttributeError\u001b[0m: 'Account' object has no attribute 'bal'"
     ]
    }
   ],
   "source": [
    "a1.bal"
   ]
  },
  {
   "cell_type": "code",
   "execution_count": null,
   "metadata": {},
   "outputs": [],
   "source": []
  }
 ],
 "metadata": {
  "kernelspec": {
   "display_name": "venv",
   "language": "python",
   "name": "python3"
  },
  "language_info": {
   "codemirror_mode": {
    "name": "ipython",
    "version": 3
   },
   "file_extension": ".py",
   "mimetype": "text/x-python",
   "name": "python",
   "nbconvert_exporter": "python",
   "pygments_lexer": "ipython3",
   "version": "3.10.4"
  },
  "orig_nbformat": 4
 },
 "nbformat": 4,
 "nbformat_minor": 2
}
